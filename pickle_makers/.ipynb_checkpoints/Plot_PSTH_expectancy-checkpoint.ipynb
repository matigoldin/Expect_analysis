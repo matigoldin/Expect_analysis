{
 "cells": [
  {
   "cell_type": "markdown",
   "metadata": {
    "collapsed": false
   },
   "source": [
    "# PLOT PSTHs"
   ]
  },
  {
   "cell_type": "markdown",
   "metadata": {},
   "source": [
    "This code plots the psth for all the different stimuli that I have in the recordings.\n",
    "\n",
    "\n",
    "output: pdfs\n"
   ]
  },
  {
   "cell_type": "code",
   "execution_count": 1,
   "metadata": {
    "collapsed": false
   },
   "outputs": [
    {
     "name": "stdout",
     "output_type": "stream",
     "text": [
      "Populating the interactive namespace from numpy and matplotlib\n"
     ]
    }
   ],
   "source": [
    " %pylab inline"
   ]
  },
  {
   "cell_type": "code",
   "execution_count": 2,
   "metadata": {
    "collapsed": false
   },
   "outputs": [],
   "source": [
    "from pylab import *\n",
    "from scipy import *\n",
    "import numpy as np\n",
    "from attrdict import AttrDict\n",
    "\n",
    "import sys\n",
    "sys.path.append('../functions') #this is where we put all the functions.py\n",
    "from stim_loading import *\n",
    "from save_load import *\n",
    "from exps_files_folders import *\n",
    "\n",
    "\n",
    "Expe, stimfiles, timefiles, eptimefiles, M= eff()"
   ]
  },
  {
   "cell_type": "code",
   "execution_count": null,
   "metadata": {
    "collapsed": false
   },
   "outputs": [],
   "source": [
    "aa = FCsequence(10)\n",
    "bb = FCtimes()\n",
    "\n",
    "bb.shape"
   ]
  },
  {
   "cell_type": "code",
   "execution_count": null,
   "metadata": {
    "collapsed": false
   },
   "outputs": [],
   "source": [
    "a = np.array([[0,0,0]]).T\n",
    "b = np.array([[0,0,0]]).T\n",
    "c = append(a,b,1)\n",
    "c.shape"
   ]
  },
  {
   "cell_type": "code",
   "execution_count": null,
   "metadata": {
    "collapsed": false
   },
   "outputs": [],
   "source": [
    "idx = list(PSTH_data.keys())\n",
    "\n",
    "n = idx[0]\n",
    "\n",
    "print(PSTH_data[n].keys())\n",
    "\n",
    "PSTH_data[n].Normal.hold.ROW[2][50]\n",
    "\n"
   ]
  },
  {
   "cell_type": "code",
   "execution_count": null,
   "metadata": {
    "collapsed": false
   },
   "outputs": [],
   "source": [
    "Folder = '/media/matias/DATA/WORKSPACE2/Expect_git/data/'\n",
    "file = Folder + 'psthdata567_2'\n",
    "\n",
    "PSTH_data = load_obj(file)\n",
    "\n",
    "#--------------------------------------------------\n",
    "def build_stim(rep, isi,div):\n",
    "    \n",
    "    onestim =  np.append(arange(10),np.ones(10)*10, axis=0)\n",
    "    onestim = np.append(onestim,arange(9,-1,-1),axis=0)\n",
    "    ttot = rep*500\n",
    "    stim = np.zeros(ttot)\n",
    "    phase = isi*4\n",
    "    \n",
    "    shift=0\n",
    "    \n",
    "    if isi ==10:\n",
    "        shift = 160\n",
    "    elif isi==20:\n",
    "        shift=120\n",
    "    \n",
    "    for p in 500*arange(rep)+phase+shift:\n",
    "        stim[p:p+30] = onestim\n",
    "    \n",
    "    return stim/div\n",
    "#--------------------------------------------------\n",
    "\n",
    "from matplotlib import gridspec\n",
    "matplotlib.rcParams.update({'font.size': 12})\n",
    "\n",
    "#--------------------------------------------------\n",
    "def plotter(pad,last):\n",
    "#p=0\n",
    "#for pad in ['ROW']:#['ROW','ARC','PAD']:\n",
    "#   p+=1\n",
    "    rainbow = ['blue', 'green', 'yellow', 'orange', 'red']\n",
    "    \n",
    "    fig = figure(figsize=(20,4))\n",
    "    i=0\n",
    "    for isi in [10,20,50]:\n",
    "        i+=1\n",
    "        r=0\n",
    "        for rep in [2,5,10]:\n",
    "            r+=1 \n",
    "            \n",
    "            rangoticks =np.arange(0, rep*500+1, 500)\n",
    "            shift = [160,120,0]\n",
    "            \n",
    "            if last==0:\n",
    "                ratios = [2,5,10]\n",
    "                bins = 20*rep\n",
    "                xmin=0\n",
    "                div=.5\n",
    "                \n",
    "            else:\n",
    "                ratios = [1,1,1]\n",
    "                bins= 250*last\n",
    "                xmin = (rep-last)*500\n",
    "                div=2\n",
    "                \n",
    "            \n",
    "            data1 = np.array(ps[n][types]['hold'][pad][rep][isi])+ shift[i-1]\n",
    "            data = data1[where(data1>xmin)]\n",
    "            \n",
    "            gs = gridspec.GridSpec(3,3, width_ratios=ratios, hspace = 0.6) \n",
    "            ax = subplot(gs[r+(i-1)*3-1])            \n",
    "            \n",
    "            for k in range(5):\n",
    "                ax.axvspan( (rep-1)*500 + isi*k + shift[i-1],shift[i-1]+ (rep-1)*500  + 8*isi+ 30 -isi*k, alpha=0.15, facecolor=rainbow[k])\n",
    "            \n",
    "            ax.hist(data, bins=bins)\n",
    "            \n",
    "            ax.set_title('ISI ' + str(isi) +' - REP ' + str(rep))\n",
    "            fig.suptitle('Type: '+ pad, fontsize = 16)\n",
    "            ax.xaxis.set_ticks(rangoticks)\n",
    "            \n",
    "            ax.set_xlim(xmin, rep*500)\n",
    "            \n",
    "            stim = build_stim(rep,isi,div)\n",
    "            plot(stim)\n",
    "            \n",
    "#--------------------------------------------------\n",
    "\n",
    "#neuron\n",
    "idx = sort(list(PSTH_data.keys()))\n",
    "print(idx)\n",
    "ps = PSTH_data\n",
    "\n",
    "n = idx[-3]\n",
    "\n",
    "print(ps[n].keys())\n",
    "ps[n].Normal.keys()\n",
    "\n",
    "#stim type\n",
    "\n",
    "t=0\n",
    "span = [2]#[2,1,0]\n",
    "\n",
    "for last in span:\n",
    "\n",
    "    t_list=['Normal','Ctrl1','Ctrl2']\n",
    "    types = t_list[t]\n",
    "    for pad in ['ROW','ARC','PAD']:\n",
    "        plotter(pad, last)\n",
    "            \n",
    "\n",
    "Folder = '/media/matias/DATA/WORKSPACE2/OUTPUT/EXP_2'\n",
    "           \n",
    "            \n",
    "            \n",
    "print(n)\n",
    "#xlim(650,850)"
   ]
  },
  {
   "cell_type": "code",
   "execution_count": null,
   "metadata": {
    "collapsed": false
   },
   "outputs": [],
   "source": [
    "\n",
    "\n",
    "\n",
    "\n",
    "\n",
    "\n",
    "\n",
    "\n",
    "\n",
    "\n",
    "\n",
    "\n",
    "\n",
    "\n",
    "\n",
    "\n",
    "\n",
    "Folder = '/media/matias/DATA/WORKSPACE2/Expect_git/data/'\n",
    "file = Folder + 'psthdata5672'\n",
    "\n",
    "PSTH_data = load_obj(file)\n",
    "\n",
    "def build_stim(rep, isi):\n",
    "    \n",
    "    onestim =  np.append(arange(10),np.ones(10)*10, axis=0)\n",
    "    onestim = np.append(onestim,arange(9,-1,-1),axis=0)\n",
    "    \n",
    "    ttot = rep*500\n",
    "    stim = np.zeros(ttot)\n",
    "    \n",
    "    phase = isi*4\n",
    "    \n",
    "    \n",
    "    \n",
    "    for p in 500*arange(rep)+phase:\n",
    "        stim[p:p+30] = onestim\n",
    "    \n",
    "    \n",
    "    return stim\n",
    "\n",
    "\n",
    "idx = sort(list(PSTH_data.keys()))\n",
    "print(idx)\n",
    "\n",
    "ps = PSTH_data\n",
    "n = idx[-3]\n",
    "\n",
    "print(ps[n].keys())\n",
    "\n",
    "ps[n].Normal.keys()\n",
    "\n",
    "fig = figure(figsize=(20,5))\n",
    "\n",
    "rep=2\n",
    "isi=20\n",
    "pad='ARC'\n",
    "\n",
    "n1 =hist(ps[n].Ctrl2.hold[pad][rep][isi], bins=100)\n",
    "stim = build_stim(rep,isi)\n",
    "\n",
    "plot(stim)\n",
    "\n",
    "print(n)\n",
    "#xlim(650,850)"
   ]
  },
  {
   "cell_type": "code",
   "execution_count": null,
   "metadata": {
    "collapsed": false
   },
   "outputs": [],
   "source": [
    "ps[n]"
   ]
  },
  {
   "cell_type": "markdown",
   "metadata": {},
   "source": [
    "a[0:2]# Define and load data files from experiments"
   ]
  },
  {
   "cell_type": "code",
   "execution_count": null,
   "metadata": {
    "collapsed": false,
    "scrolled": true
   },
   "outputs": [],
   "source": [
    "global binname, textname\n",
    "#---------------------------------------------------------------------------------------\n",
    "SelExp = [2]                         #select experiment numbers!\n",
    "grupete = [2]   #select cluster groups! 2 for good clusters 1 for multiunits, 3 for unsorted\n",
    "\n",
    "#select measurement and/or shanks!\n",
    "Measurements = m764[0:1]           #['m1s1']#['m3s1','m3s3']#m12[-4:]#['m1s1','m1s2','m1s3','m1s4']   \n",
    "\n",
    "rootF = '/media/matias/DATA/WORKSPACE2/'    \n",
    "\n",
    "dirs =[]\n",
    "#--------------------------------------------------------------------------------\n",
    "# Loop Experiments\n",
    "#--------------------------------------------------------------------------------\n",
    "last_expe=0     #we use this to load stim only when we change experiment\n",
    "for expe in SelExp:\n",
    "    \n",
    "    PSTHall = {}\n",
    "    PSTHdata = {}\n",
    "    PSTH_spikes_counts = {}\n",
    "    \n",
    "    #Measurements = sorted(Expe[expe])                         #uncommento to select all\n",
    "    print('Experiment: ', expe)\n",
    "   \n",
    "    last_meas =0   #we use this to find when we change measurement to load Vtag and stim again\n",
    "    \n",
    "    #--------------------------------------------------------------------------------\n",
    "    #loop goodunits, multiunits, unsorted...\n",
    "    for group in grupete:   #2 for good clusters 1 for multiunits 3 for unsorted\n",
    "        #folder names\n",
    "        if group ==3:\n",
    "            dirs  = [rootF + 'OUTPUT/EXP_'+str(expe)]\n",
    "        if group ==2:\n",
    "            dirs  = [rootF + 'OUTPUT/EXP_'+str(expe)]\n",
    "        if group ==1:\n",
    "            dirs  = [rootF + 'OUTPUT/EXP_'+str(expe)]\n",
    "        #--------------------------------------------------------------------------------\n",
    "        #create output folders\n",
    "        for dir in dirs:\n",
    "            if not os.path.exists(dir):\n",
    "                os.makedirs(dir) \n",
    "        dire = dirs[0] +'/'\n",
    "        titles = 'Exp'+ str(expe) + '_Meas_' + meas[1] + '_Shank_' + meas[3]\n",
    "        #--------------------------------------------------------------------------------\n",
    "        print('Group:', group)\n",
    "        #--------------------------------------------------------------------------------\n",
    "        #loop measurements and shanks\n",
    "        #Measurements = sorted((Expe[expe]))\n",
    "        \n",
    "        for meas in Measurements:           \n",
    "            print(meas)\n",
    "            current_meas = int(meas[1])   #measurement number\n",
    "            #---------------------------------------------------------------\n",
    "            #This is to account for diffrerent stims when looping diffrerent experiments\n",
    "            if current_meas!=last_meas:\n",
    "                stimfile = rootF + 'EXP_' + str(expe) + '/' + stimfiles[expe][current_meas-1]\n",
    "                timefile = rootF + 'EXP_' + str(expe) + '/' +timefiles[expe][current_meas-1]\n",
    "                epfile = rootF + 'EXP_' + str(expe) + '/' +eptimefiles[expe][current_meas-1]\n",
    "                \n",
    "                Stims = build_dict_stim(stimfile, timefile, epfile)\n",
    "          \n",
    "            \n",
    "            #select datafile\n",
    "            sp_file = rootF + 'EXP_' + str(expe) +'/Spike_Sort/'+ meas +'/'+ Expe[expe][meas]\n",
    "            #load datafile\n",
    "            Spikes, sampling_freq = readkwikinfo(sp_file, group)  \n",
    "                    \n",
    "            if len(Spikes.keys())>0:                              #do only if there are clusters\n",
    "                #Build PSTHs\n",
    "                print('   building psths')\n",
    "    \n",
    "                PSTH_data = BuildPSTH(Stims, Spikes, sampling_freq, expe, meas) \n",
    "            \n",
    "            \n",
    "            PSTHall.update(PSTH_data)\n",
    "            \n",
    "    print('   saving')\n",
    "    if group == 2:\n",
    "        filesave =rootF +'Expect_git/data/psthdata' + str(expe)\n",
    "    else:\n",
    "        filesave =rootF +'S2_git/data/'+ 'psthdataMultiR' + str(expe)\n",
    "        \n",
    "    save_obj(PSTHall,filesave)"
   ]
  },
  {
   "cell_type": "code",
   "execution_count": null,
   "metadata": {
    "collapsed": false
   },
   "outputs": [],
   "source": []
  },
  {
   "cell_type": "code",
   "execution_count": null,
   "metadata": {
    "collapsed": false
   },
   "outputs": [],
   "source": [
    "Folder = '/media/matias/DATA/WORKSPACE2/EXP_2'        \n",
    "stimfile = Folder +'/EXPECT-151217-stims-7.txt'   \n",
    "timefile = Folder +'/EXPECT-151217-times-7.txt'   \n",
    "epfile = Folder +'/EXPECT-151217-ep_times-7.txt'   \n",
    "\n",
    "Stims = build_dict_stim(stimfile, timefile, epfile)\n",
    "\n",
    "print(Stims.keys())\n",
    "\n",
    "h = build_hist_dict()\n",
    "\n",
    "print(h.keys())\n",
    "print(h.hist_logic)\n",
    "\n",
    "print(Stims.st_logic)\n",
    "\n",
    "Stims.st_rep.shape\n",
    "\n",
    "Stims.stims_ep\n",
    "\n",
    "\n",
    "\n",
    "print(h.keys())\n",
    "\n",
    "print(h.hist_logic)\n",
    "\n",
    "h.Normal.hold.ROW[2][10]"
   ]
  },
  {
   "cell_type": "code",
   "execution_count": null,
   "metadata": {
    "collapsed": false,
    "scrolled": true
   },
   "outputs": [],
   "source": [
    "Folder = '/media/matias/DATA/WORKSPACE2/Expect_git/data/'\n",
    "file = Folder + 'psthdata2'\n",
    "\n",
    "PSTH_data = load_obj(file)\n",
    "\n",
    "def build_stim(rep, isi):\n",
    "    \n",
    "    onestim =  np.append(arange(10),np.ones(10)*10, axis=0)\n",
    "    onestim = np.append(onestim,arange(9,-1,-1),axis=0)\n",
    "    \n",
    "    ttot = rep*500\n",
    "    stim = np.zeros(ttot)\n",
    "    \n",
    "    phase = isi*4\n",
    "    \n",
    "    \n",
    "    \n",
    "    for p in 500*arange(rep)+phase:\n",
    "        stim[p:p+30] = onestim\n",
    "    \n",
    "    \n",
    "    return stim\n",
    "\n",
    "\n",
    "\n",
    "\n",
    "idx = list(PSTH_data.keys())\n",
    "print(idx)\n",
    "\n",
    "ps = PSTH_data\n",
    "n = idx[5]\n",
    "\n",
    "print(ps[n].keys())\n",
    "\n",
    "ps[n].Normal.keys()\n",
    "\n",
    "fig = figure(figsize=(20,5))\n",
    "\n",
    "rep=10\n",
    "isi=10\n",
    "\n",
    "n1 =hist(ps[n].Normal.hold.PAD[rep][isi], bins=200)\n",
    "stim = build_stim(rep,isi)\n",
    "\n",
    "plot(stim)\n",
    "\n",
    "#xlim(650,850)"
   ]
  },
  {
   "cell_type": "code",
   "execution_count": null,
   "metadata": {
    "collapsed": false
   },
   "outputs": [],
   "source": [
    "stim = build_stim(5,10)\n",
    "plot(stim[0:1000])\n",
    "\n",
    "print(Stims.keys())\n",
    "\n",
    "Stims.st_times[1]\n"
   ]
  },
  {
   "cell_type": "code",
   "execution_count": null,
   "metadata": {
    "collapsed": false
   },
   "outputs": [],
   "source": [
    "print(Stims.keys())\n",
    "\n",
    "a=[]\n",
    "for i in arange(15):\n",
    "    a.extend(Stims.st_times[i])\n",
    "    \n",
    "plot(a,'o')\n",
    "a[-1]-1171000\n"
   ]
  },
  {
   "cell_type": "code",
   "execution_count": null,
   "metadata": {
    "collapsed": true
   },
   "outputs": [],
   "source": []
  }
 ],
 "metadata": {
  "kernelspec": {
   "display_name": "Python 3",
   "language": "python",
   "name": "python3"
  },
  "language_info": {
   "codemirror_mode": {
    "name": "ipython",
    "version": 3
   },
   "file_extension": ".py",
   "mimetype": "text/x-python",
   "name": "python",
   "nbconvert_exporter": "python",
   "pygments_lexer": "ipython3",
   "version": "3.4.3"
  }
 },
 "nbformat": 4,
 "nbformat_minor": 0
}
