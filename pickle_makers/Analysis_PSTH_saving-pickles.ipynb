{
 "cells": [
  {
   "cell_type": "markdown",
   "metadata": {
    "collapsed": false
   },
   "source": [
    "# BUILD PSTH OF ALL THE STIMULI"
   ]
  },
  {
   "cell_type": "markdown",
   "metadata": {},
   "source": [
    "This code makes the psth for all the different stimuli that I have in the recordings.\n",
    "\n",
    "The output will be a histo dictionary with branches containing all the spike times of every stimulus given.\n",
    "The list will be empty if the stim was not in the protocol.\n",
    "\n",
    "pickle output: histo_stims.pkl\n"
   ]
  },
  {
   "cell_type": "code",
   "execution_count": 306,
   "metadata": {
    "collapsed": false
   },
   "outputs": [
    {
     "name": "stdout",
     "output_type": "stream",
     "text": [
      "Populating the interactive namespace from numpy and matplotlib\n"
     ]
    },
    {
     "name": "stderr",
     "output_type": "stream",
     "text": [
      "WARNING: pylab import has clobbered these variables: ['log2', 'log10', '__version__', 'sqrt', 'arccos', 'arctanh', 'power', 'test', 'linalg', 'fft', 'exp', 'arcsin', 'log', 'show_config']\n",
      "`%matplotlib` prevents importing * from pylab and numpy\n"
     ]
    }
   ],
   "source": [
    " %pylab inline"
   ]
  },
  {
   "cell_type": "code",
   "execution_count": 309,
   "metadata": {
    "collapsed": false
   },
   "outputs": [],
   "source": [
    "from pylab import *\n",
    "from scipy import *\n",
    "import numpy as np\n",
    "from attrdict import AttrDict\n",
    "\n",
    "import sys\n",
    "sys.path.append('../functions') #this is where we put all the functions.py\n",
    "from stim_loading import *\n",
    "from save_load import *\n",
    "from exps_files_folders import *\n",
    "\n",
    "Expe, stimfiles, timefiles, eptimefiles = eff()"
   ]
  },
  {
   "cell_type": "markdown",
   "metadata": {},
   "source": [
    "# Define and load data files from experiments"
   ]
  },
  {
   "cell_type": "code",
   "execution_count": 341,
   "metadata": {
    "collapsed": false,
    "scrolled": true
   },
   "outputs": [
    {
     "name": "stdout",
     "output_type": "stream",
     "text": [
      "Experiment:  2\n",
      "Group: 2\n",
      "m7s1\n",
      "   Total episodes:  15\n",
      "   Total stims per episode:  28\n",
      "   building psths\n",
      "   saving\n"
     ]
    }
   ],
   "source": [
    "global binname, textname\n",
    "#---------------------------------------------------------------------------------------\n",
    "SelExp = [2]                         #select experiment numbers!\n",
    "grupete = [2]   #select cluster groups! 2 for good clusters 1 for multiunits, 3 for unsorted\n",
    "\n",
    "#select measurement and/or shanks!\n",
    "Measurements = m764[0:1]           #['m1s1']#['m3s1','m3s3']#m12[-4:]#['m1s1','m1s2','m1s3','m1s4']   \n",
    "\n",
    "rootF = '/media/matias/DATA/WORKSPACE2/'    \n",
    "\n",
    "dirs =[]\n",
    "#--------------------------------------------------------------------------------\n",
    "# Loop Experiments\n",
    "#--------------------------------------------------------------------------------\n",
    "last_expe=0     #we use this to load stim only when we change experiment\n",
    "for expe in SelExp:\n",
    "    \n",
    "    PSTHall = {}\n",
    "    PSTHdata = {}\n",
    "    PSTH_spikes_counts = {}\n",
    "    \n",
    "    #Measurements = sorted(Expe[expe])                         #uncommento to select all\n",
    "    print('Experiment: ', expe)\n",
    "   \n",
    "    last_meas =0   #we use this to find when we change measurement to load Vtag and stim again\n",
    "    \n",
    "    #--------------------------------------------------------------------------------\n",
    "    #loop goodunits, multiunits, unsorted...\n",
    "    for group in grupete:   #2 for good clusters 1 for multiunits 3 for unsorted\n",
    "        #folder names\n",
    "        if group ==3:\n",
    "            dirs  = [rootF + 'OUTPUT/EXP_'+str(expe)]\n",
    "        if group ==2:\n",
    "            dirs  = [rootF + 'OUTPUT/EXP_'+str(expe)]\n",
    "        if group ==1:\n",
    "            dirs  = [rootF + 'OUTPUT/EXP_'+str(expe)]\n",
    "        #--------------------------------------------------------------------------------\n",
    "        #create output folders\n",
    "        for dir in dirs:\n",
    "            if not os.path.exists(dir):\n",
    "                os.makedirs(dir) \n",
    "        dire = dirs[0] +'/'\n",
    "        titles = 'Exp'+ str(expe) + '_Meas_' + meas[1] + '_Shank_' + meas[3]\n",
    "        #--------------------------------------------------------------------------------\n",
    "        print('Group:', group)\n",
    "        #--------------------------------------------------------------------------------\n",
    "        #loop measurements and shanks\n",
    "        #Measurements = sorted((Expe[expe]))\n",
    "        \n",
    "        for meas in Measurements:           \n",
    "            print(meas)\n",
    "            current_meas = int(meas[1])   #measurement number\n",
    "            #---------------------------------------------------------------\n",
    "            #This is to account for diffrerent stims when looping diffrerent experiments\n",
    "            if current_meas!=last_meas:\n",
    "                stimfile = rootF + 'EXP_' + str(expe) + '/' + stimfiles[expe][current_meas-1]\n",
    "                timefile = rootF + 'EXP_' + str(expe) + '/' +timefiles[expe][current_meas-1]\n",
    "                epfile = rootF + 'EXP_' + str(expe) + '/' +eptimefiles[expe][current_meas-1]\n",
    "                \n",
    "                Stims = build_dict_stim(stimfile, timefile, epfile)\n",
    "          \n",
    "            \n",
    "            #select datafile\n",
    "            sp_file = rootF + 'EXP_' + str(expe) +'/Spike_Sort/'+ meas +'/'+ Expe[expe][meas]\n",
    "            #load datafile\n",
    "            Spikes, sampling_freq = readkwikinfo(sp_file, group)  \n",
    "                    \n",
    "            if len(Spikes.keys())>0:                              #do only if there are clusters\n",
    "                #Build PSTHs\n",
    "                print('   building psths')\n",
    "    \n",
    "                PSTH_data = BuildPSTH(Stims, Spikes, sampling_freq, expe, meas) \n",
    "            \n",
    "            \n",
    "            PSTHall.update(PSTH_data)\n",
    "            \n",
    "    print('   saving')\n",
    "    if group == 2:\n",
    "        filesave =rootF +'Expect_git/data/psthdata' + str(expe)\n",
    "    else:\n",
    "        filesave =rootF +'S2_git/data/'+ 'psthdataMultiR' + str(expe)\n",
    "        \n",
    "    save_obj(PSTHall,filesave)"
   ]
  },
  {
   "cell_type": "code",
   "execution_count": 336,
   "metadata": {
    "collapsed": false
   },
   "outputs": [
    {
     "name": "stdout",
     "output_type": "stream",
     "text": [
      "Total episodes:  15\n",
      "Total stims per episode:  28\n",
      "dict_keys(['st_rep', 'st_types', 'st_logic', 'stims_ep', 'st_times', 'episodes', 'st_ctrl', 'st_isi', 'st_pad'])\n",
      "dict_keys(['Ctrl3', 'Normal', 'hist_logic', 'Ctrl2', 'Ctrl4', 'Counts', 'Ctrl1', 'BLANK'])\n",
      "Type x Pad x Rep x Isi\n",
      "AttrDict({'pad': {'3': 'PAD', '1': 'ROW', '2': 'ARC'}, 'ctrl': {'0': 'BLANK', '3': 'Ctrl3', '10': 'Normal', '1': 'Ctrl1', '2': 'Ctrl2'}, 'types': {'3': 'release', '1': 'hold', '2': 'pass'}})\n",
      "dict_keys(['Ctrl3', 'Normal', 'hist_logic', 'Ctrl2', 'Ctrl4', 'Counts', 'Ctrl1', 'BLANK'])\n",
      "Type x Pad x Rep x Isi\n"
     ]
    },
    {
     "data": {
      "text/plain": [
       "[]"
      ]
     },
     "execution_count": 336,
     "metadata": {},
     "output_type": "execute_result"
    }
   ],
   "source": [
    "Folder = '/media/matias/DATA/WORKSPACE2/EXP_2'        \n",
    "stimfile = Folder +'/EXPECT-151217-stims-7.txt'   \n",
    "timefile = Folder +'/EXPECT-151217-times-7.txt'   \n",
    "epfile = Folder +'/EXPECT-151217-ep_times-7.txt'   \n",
    "\n",
    "Stims = build_dict_stim(stimfile, timefile, epfile)\n",
    "\n",
    "print(Stims.keys())\n",
    "\n",
    "h = build_hist_dict()\n",
    "\n",
    "print(h.keys())\n",
    "print(h.hist_logic)\n",
    "\n",
    "print(Stims.st_logic)\n",
    "\n",
    "Stims.st_rep.shape\n",
    "\n",
    "Stims.stims_ep\n",
    "\n",
    "\n",
    "\n",
    "print(h.keys())\n",
    "\n",
    "print(h.hist_logic)\n",
    "\n",
    "h.Normal.hold.ROW[2][10]"
   ]
  },
  {
   "cell_type": "code",
   "execution_count": 446,
   "metadata": {
    "collapsed": false,
    "scrolled": true
   },
   "outputs": [
    {
     "name": "stdout",
     "output_type": "stream",
     "text": [
      "['exp2_m7s1_c2', 'exp2_m7s1_c7', 'exp2_m7s1_c6', 'exp2_m7s1_c3', 'exp2_m7s1_c14', 'exp2_m7s1_c13']\n",
      "dict_keys(['Ctrl3', 'Normal', 'hist_logic', 'Ctrl2', 'Ctrl4', 'Counts', 'Ctrl1', 'BLANK'])\n"
     ]
    },
    {
     "data": {
      "image/png": "[encoded data removed]",
      "text/plain": [
       "<matplotlib.figure.Figure at 0x7fefa56809b0>"
      ]
     },
     "metadata": {},
     "output_type": "display_data"
    }
   ],
   "source": [
    "idx = list(PSTH_data.keys())\n",
    "print(idx)\n",
    "\n",
    "ps = PSTH_data\n",
    "n = idx[3]\n",
    "\n",
    "print(ps[n].keys())\n",
    "\n",
    "ps[n].Normal.keys()\n",
    "\n",
    "fig = figure(figsize=(20,5))\n",
    "\n",
    "rep=10\n",
    "isi=50\n",
    "\n",
    "n1 =hist(ps[n].Normal.hold.ROW[rep][isi], bins=400)\n",
    "stim = build_stim(rep,isi)\n",
    "\n",
    "plot(stim)\n",
    "\n",
    "\n",
    "def build_stim(rep, isi):\n",
    "    \n",
    "    onestim =  np.append(arange(10),np.ones(10)*10, axis=0)\n",
    "    onestim = np.append(onestim,arange(9,-1,-1),axis=0)\n",
    "    \n",
    "    ttot = rep*500\n",
    "    stim = np.zeros(ttot)\n",
    "    \n",
    "    phase = isi*4\n",
    "    \n",
    "    \n",
    "    \n",
    "    for p in 500*arange(rep)+phase:\n",
    "        stim[p:p+30] = onestim\n",
    "    \n",
    "    \n",
    "    return stim\n"
   ]
  },
  {
   "cell_type": "code",
   "execution_count": 415,
   "metadata": {
    "collapsed": false
   },
   "outputs": [
    {
     "data": {
      "text/plain": [
       "[<matplotlib.lines.Line2D at 0x7fef9695b6d8>]"
      ]
     },
     "execution_count": 415,
     "metadata": {},
     "output_type": "execute_result"
    },
    {
     "data": {
      "image/png": "[encoded data removed]",
      "text/plain": [
       "<matplotlib.figure.Figure at 0x7fefa78ec0f0>"
      ]
     },
     "metadata": {},
     "output_type": "display_data"
    }
   ],
   "source": [
    "stim = build_stim(0,1,2,5,10)\n",
    "\n",
    "\n",
    "plot(stim[0:100])\n"
   ]
  },
  {
   "cell_type": "code",
   "execution_count": 52,
   "metadata": {
    "collapsed": false
   },
   "outputs": [
    {
     "name": "stdout",
     "output_type": "stream",
     "text": [
      "dict_keys(['st_times', 'st_types', 'st_rep', 'stims_ep', 'episodes', 'st_pad', 'st_logic', 'st_isi', 'st_ctrl'])\n"
     ]
    },
    {
     "data": {
      "text/plain": [
       "-5104.1333333335351"
      ]
     },
     "execution_count": 52,
     "metadata": {},
     "output_type": "execute_result"
    },
    {
     "data": {
      "image/png": "[encoded data removed]",
      "text/plain": [
       "<matplotlib.figure.Figure at 0x7f3e06589550>"
      ]
     },
     "metadata": {},
     "output_type": "display_data"
    }
   ],
   "source": [
    "print(Stims.keys())\n",
    "\n",
    "a=[]\n",
    "for i in arange(15):\n",
    "    a.extend(Stims.st_times[i])\n",
    "    \n",
    "plot(a,'o')\n",
    "a[-1]-1171000\n"
   ]
  },
  {
   "cell_type": "code",
   "execution_count": null,
   "metadata": {
    "collapsed": true
   },
   "outputs": [],
   "source": []
  }
 ],
 "metadata": {
  "kernelspec": {
   "display_name": "Python 3",
   "language": "python",
   "name": "python3"
  },
  "language_info": {
   "codemirror_mode": {
    "name": "ipython",
    "version": 3
   },
   "file_extension": ".py",
   "mimetype": "text/x-python",
   "name": "python",
   "nbconvert_exporter": "python",
   "pygments_lexer": "ipython3",
   "version": "3.4.3"
  }
 },
 "nbformat": 4,
 "nbformat_minor": 0
}
