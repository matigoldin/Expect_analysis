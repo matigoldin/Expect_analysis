{
 "cells": [
  {
   "cell_type": "markdown",
   "metadata": {
    "collapsed": false
   },
   "source": [
    "# PLOT PSTHs"
   ]
  },
  {
   "cell_type": "markdown",
   "metadata": {},
   "source": [
    "This code plots the psth for all the different stimuli that I have in the recordings.\n",
    "\n",
    "\n",
    "output: pdfs\n"
   ]
  },
  {
   "cell_type": "code",
   "execution_count": 1,
   "metadata": {
    "collapsed": false
   },
   "outputs": [
    {
     "name": "stdout",
     "output_type": "stream",
     "text": [
      "Populating the interactive namespace from numpy and matplotlib\n"
     ]
    }
   ],
   "source": [
    " %pylab inline"
   ]
  },
  {
   "cell_type": "code",
   "execution_count": 2,
   "metadata": {
    "collapsed": false
   },
   "outputs": [],
   "source": [
    "from pylab import *\n",
    "from scipy import *\n",
    "import numpy as np\n",
    "from attrdict import AttrDict\n",
    "\n",
    "import sys\n",
    "sys.path.append('../functions') #this is where we put all the functions.py\n",
    "from stim_loading14 import *\n",
    "from save_load import *\n",
    "from exps_files_folders import *\n",
    "\n",
    "from display_exp import *\n",
    "\n",
    "#Expe, stimfiles, timefiles, eptimefiles, M= eff()"
   ]
  },
  {
   "cell_type": "code",
   "execution_count": 269,
   "metadata": {
    "collapsed": false,
    "scrolled": true
   },
   "outputs": [
    {
     "name": "stdout",
     "output_type": "stream",
     "text": [
      "['exp14_m1s1_c22' 'exp14_m1s1_c62' 'exp14_m1s1_c69' 'exp14_m1s1_c71'\n",
      " 'exp14_m1s1_c75' 'exp14_m1s2_c17' 'exp14_m1s2_c18' 'exp14_m1s2_c22'\n",
      " 'exp14_m1s2_c5' 'exp14_m1s2_c84' 'exp14_m1s2_c89' 'exp14_m1s2_c90'\n",
      " 'exp14_m1s4_c42' 'exp14_m1s4_c44' 'exp14_m1s4_c45' 'exp14_m1s4_c6'\n",
      " 'exp14_m1s4_c9']\n",
      "exp14_m1s1_c22\n"
     ]
    }
   ],
   "source": [
    "#--------------------------------------------------\n",
    "#neuron\n",
    "Folder = '/media/matias/DATA/WORKSPACE2/Expect_git/data/'\n",
    "\n",
    "pickle = 'psthdata14m1'\n",
    "#pickle = 'psthdataMultiR14m1'\n",
    "\n",
    "file = Folder + pickle\n",
    "    \n",
    "PSTH_data = load_obj(file)\n",
    "idx = sort(list(PSTH_data.keys()))\n",
    "print(idx)\n",
    "ps = PSTH_data\n",
    "\n",
    "exp=14\n",
    "\n",
    "n = idx[0]    #neuron\n",
    "t=0           #stim type\n",
    "span = [0]  # [0,1,2]\n",
    "#types = t_list[t]\n",
    "for last in span:\n",
    "    t_list=['Normal','Normal']\n",
    "    for pad in ['ROW','ARC']:#['ROW','ARC','PAD']:\n",
    "        #for types in t_list:\n",
    "        #plotter(pad, last, exp , n, t_list)\n",
    "        n\n",
    "titles = 'EXP' + str(exp) + 'n'+ n + '_all' + '_span' + str(span[0])\n",
    "#fig.savefig(Folderpdf + titles + '_hist.pdf', format='pdf')\n",
    "#print(ps[n].keys())\n",
    "#ps[n].Normal.keys()            \n",
    "print(n)"
   ]
  },
  {
   "cell_type": "code",
   "execution_count": 30,
   "metadata": {
    "collapsed": false
   },
   "outputs": [
    {
     "ename": "FileNotFoundError",
     "evalue": "[Errno 2] No such file or directory: '/media/matias/DATA/WORKSPACE2/Expect_git/data/psthdataMultiR14m2M2.pkl'",
     "output_type": "error",
     "traceback": [
      "\u001b[1;31m---------------------------------------------------------------------------\u001b[0m",
      "\u001b[1;31mFileNotFoundError\u001b[0m                         Traceback (most recent call last)",
      "\u001b[1;32m<ipython-input-30-2245cc78e6b8>\u001b[0m in \u001b[0;36m<module>\u001b[1;34m()\u001b[0m\n\u001b[0;32m      4\u001b[0m \u001b[1;33m\u001b[0m\u001b[0m\n\u001b[0;32m      5\u001b[0m \u001b[0mfile\u001b[0m \u001b[1;33m=\u001b[0m \u001b[0mFolder\u001b[0m \u001b[1;33m+\u001b[0m \u001b[0mpickle\u001b[0m\u001b[1;33m\u001b[0m\u001b[0m\n\u001b[1;32m----> 6\u001b[1;33m \u001b[0mPSTH_data\u001b[0m \u001b[1;33m=\u001b[0m \u001b[0mload_obj\u001b[0m\u001b[1;33m(\u001b[0m\u001b[0mfile\u001b[0m\u001b[1;33m)\u001b[0m\u001b[1;33m\u001b[0m\u001b[0m\n\u001b[0m\u001b[0;32m      7\u001b[0m \u001b[1;31m#--------------------------------------------------\u001b[0m\u001b[1;33m\u001b[0m\u001b[1;33m\u001b[0m\u001b[0m\n\u001b[0;32m      8\u001b[0m \u001b[0midx\u001b[0m \u001b[1;33m=\u001b[0m \u001b[0msort\u001b[0m\u001b[1;33m(\u001b[0m\u001b[0mlist\u001b[0m\u001b[1;33m(\u001b[0m\u001b[0mPSTH_data\u001b[0m\u001b[1;33m.\u001b[0m\u001b[0mkeys\u001b[0m\u001b[1;33m(\u001b[0m\u001b[1;33m)\u001b[0m\u001b[1;33m)\u001b[0m\u001b[1;33m)\u001b[0m\u001b[1;33m\u001b[0m\u001b[0m\n",
      "\u001b[1;32m/media/matias/DATA/WORKSPACE2/Expect_git/functions/save_load.py\u001b[0m in \u001b[0;36mload_obj\u001b[1;34m(name)\u001b[0m\n\u001b[0;32m     10\u001b[0m \u001b[1;33m\u001b[0m\u001b[0m\n\u001b[0;32m     11\u001b[0m \u001b[1;32mdef\u001b[0m \u001b[0mload_obj\u001b[0m\u001b[1;33m(\u001b[0m\u001b[0mname\u001b[0m \u001b[1;33m)\u001b[0m\u001b[1;33m:\u001b[0m\u001b[1;33m\u001b[0m\u001b[0m\n\u001b[1;32m---> 12\u001b[1;33m     \u001b[1;32mwith\u001b[0m \u001b[0mopen\u001b[0m\u001b[1;33m(\u001b[0m \u001b[0mname\u001b[0m \u001b[1;33m+\u001b[0m \u001b[1;34m'.pkl'\u001b[0m\u001b[1;33m,\u001b[0m \u001b[1;34m'rb'\u001b[0m\u001b[1;33m)\u001b[0m \u001b[1;32mas\u001b[0m \u001b[0mf\u001b[0m\u001b[1;33m:\u001b[0m\u001b[1;33m\u001b[0m\u001b[0m\n\u001b[0m\u001b[0;32m     13\u001b[0m         \u001b[1;32mreturn\u001b[0m \u001b[0mpickle\u001b[0m\u001b[1;33m.\u001b[0m\u001b[0mload\u001b[0m\u001b[1;33m(\u001b[0m\u001b[0mf\u001b[0m\u001b[1;33m)\u001b[0m\u001b[1;33m\u001b[0m\u001b[0m\n",
      "\u001b[1;31mFileNotFoundError\u001b[0m: [Errno 2] No such file or directory: '/media/matias/DATA/WORKSPACE2/Expect_git/data/psthdataMultiR14m2M2.pkl'"
     ]
    }
   ],
   "source": [
    "Folder = '/media/matias/DATA/WORKSPACE2/Expect_git/data/'\n",
    "pickle = 'psthdata14m2M2'\n",
    "pickle = 'psthdataMultiR14m2M2'\n",
    "\n",
    "file = Folder + pickle\n",
    "PSTH_data = load_obj(file)\n",
    "#--------------------------------------------------\n",
    "idx = sort(list(PSTH_data.keys()))\n",
    "idx[:]"
   ]
  },
  {
   "cell_type": "code",
   "execution_count": 29,
   "metadata": {
    "collapsed": false,
    "scrolled": false
   },
   "outputs": [
    {
     "name": "stdout",
     "output_type": "stream",
     "text": [
      "exp14_m2s4_c9_ROW_span1\n",
      "exp14_m2s4_c9_ARC_span1\n",
      "exp14_m2s2_c5\n"
     ]
    },
    {
     "data": {
      "image/png": "[encoded data removed]",
      "text/plain": [
       "<matplotlib.figure.Figure at 0x7f5808adb588>"
      ]
     },
     "metadata": {},
     "output_type": "display_data"
    },
    {
     "data": {
      "image/png": "[encoded data removed]",
      "text/plain": [
       "<matplotlib.figure.Figure at 0x7f5809889e80>"
      ]
     },
     "metadata": {},
     "output_type": "display_data"
    }
   ],
   "source": [
    "#neuron\n",
    "idx = sort(list(PSTH_data.keys()))\n",
    "ps = PSTH_data\n",
    "exp=14\n",
    "\n",
    "n = idx[0]    #neuron\n",
    "for n in idx[3:4]:          #20   #54   #56        #28 m1s1c58 #23 c5\n",
    "    n = idx[-9]    #neuron\n",
    "    t=0           #stim type\n",
    "    span = [1]  # [0,1,2]\n",
    "    #types = t_list[t]\n",
    "    for last in span:\n",
    "        t_list=['Normal','Ctrl2']\n",
    "        for pad in ['ROW','ARC']:#['ROW','ARC','PAD']:\n",
    "            #for types in t_list:\n",
    "            plotter(ps,pad, last, exp , n, t_list,2.5)\n",
    "    titles = 'EXP' + str(exp) + 'n'+ n + '_all' + '_span' + str(span[0])\n",
    "    print(n)"
   ]
  },
  {
   "cell_type": "code",
   "execution_count": 285,
   "metadata": {
    "collapsed": false,
    "scrolled": true
   },
   "outputs": [
    {
     "data": {
      "text/plain": [
       "array([  0,   1,   2,   3,   4,   5,   6,   7,   8,   9,  10,  11,  12,\n",
       "        13,  14,  15,  16,  17,  18,  19,  20,  21,  22,  23,  24,  25,\n",
       "        26,  27,  28,  29,  30,  31,  32,  33,  34,  35,  36,  37,  38,\n",
       "        39,  40,  41,  42,  43,  44,  45,  46,  47,  48,  49,  50,  51,\n",
       "        52,  53,  54,  55,  56,  57,  58,  59,  60,  61,  62,  63,  64,\n",
       "        65,  66,  67,  68,  69,  70,  71,  72,  73,  74,  75,  76,  77,\n",
       "        78,  79,  80,  81,  82,  83,  84,  85,  86,  87,  88,  89,  90,\n",
       "        91,  92,  93,  94,  95,  96,  97,  98,  99, 100, 101, 102, 103,\n",
       "       104, 105, 106, 107, 108, 109, 110, 111, 112, 113, 114, 115, 116,\n",
       "       117, 118, 119, 120, 121, 122, 123, 124, 125, 126, 127, 128, 129,\n",
       "       130, 131, 132, 133, 134, 135, 136, 137, 138, 139, 140, 141, 142,\n",
       "       143, 144, 145, 146, 147, 148, 149, 150, 151, 152, 153, 154, 155,\n",
       "       156, 157, 158, 159, 160, 161, 162, 163, 164, 165, 166, 167, 168,\n",
       "       169, 170, 171, 172, 173, 174, 175, 176, 177, 178, 179, 180, 181,\n",
       "       182, 183, 184, 185, 186, 187, 188, 189, 190, 191, 192, 193, 194,\n",
       "       195, 196, 197, 198, 199, 200, 201, 202, 203, 204, 205, 206, 207,\n",
       "       208, 209, 210, 211, 212, 213, 214, 215, 216, 217, 218, 219, 220,\n",
       "       221, 222, 223, 224, 225, 226, 227, 228, 229, 230, 231, 232, 233,\n",
       "       234, 235, 236, 237, 238, 239, 240, 241, 242, 243, 244, 245, 246,\n",
       "       247, 248, 249, 250, 251, 252, 253, 254, 255, 256, 257, 258, 259,\n",
       "       260, 261, 262, 263, 264, 265, 266, 267, 268, 269, 270, 271, 272,\n",
       "       273, 274, 275, 276, 277, 278, 279, 280, 281, 282, 283, 284, 285,\n",
       "       286, 287, 288, 289, 290, 291, 292, 293, 294, 295, 296, 297, 298,\n",
       "       299, 300, 301, 302, 303, 304, 305, 306, 307, 308, 309, 310, 311,\n",
       "       312, 313, 314, 315, 316, 317, 318, 319, 320, 321, 322, 323, 324,\n",
       "       325, 326, 327, 328, 329, 330, 331, 332, 333, 334, 335, 336, 337,\n",
       "       338, 339, 340, 341, 342, 343, 344, 345, 346, 347, 348, 349, 350,\n",
       "       351, 352, 353, 354, 355, 356, 357, 358, 359, 360, 361, 362, 363,\n",
       "       364, 365, 366, 367, 368, 369, 370, 371, 372, 373, 374, 375, 376,\n",
       "       377, 378, 379, 380, 381, 382, 383, 384, 385, 386, 387, 388, 389,\n",
       "       390, 391, 392, 393, 394, 395, 396, 397, 398, 399, 400, 401, 402,\n",
       "       403, 404, 405, 406, 407, 408, 409, 410, 411, 412, 413, 414, 415,\n",
       "       416, 417, 418, 419, 420, 421, 422, 423, 424, 425, 426, 427, 428,\n",
       "       429, 430, 431, 432, 433, 434, 435, 436, 437, 438, 439, 440, 441,\n",
       "       442, 443, 444, 445, 446, 447, 448, 449, 450, 451, 452, 453, 454,\n",
       "       455, 456, 457, 458, 459, 460, 461, 462, 463, 464, 465, 466, 467,\n",
       "       468, 469, 470, 471, 472, 473, 474, 475, 476, 477, 478, 479, 480,\n",
       "       481, 482, 483, 484, 485, 486, 487, 488, 489, 490, 491, 492, 493,\n",
       "       494, 495, 496, 497, 498, 499, 500])"
      ]
     },
     "execution_count": 285,
     "metadata": {},
     "output_type": "execute_result"
    }
   ],
   "source": [
    "bins= np.arange(500+1)\n",
    "bins"
   ]
  },
  {
   "cell_type": "code",
   "execution_count": 238,
   "metadata": {
    "collapsed": false
   },
   "outputs": [
    {
     "data": {
      "text/plain": [
       "['exp14_m1s1_c22',\n",
       " 'exp14_m1s1_c62',\n",
       " 'exp14_m1s1_c69',\n",
       " 'exp14_m1s1_c71',\n",
       " 'exp14_m1s1_c75',\n",
       " 'exp14_m1s2_c17',\n",
       " 'exp14_m1s2_c18',\n",
       " 'exp14_m1s2_c22',\n",
       " 'exp14_m1s2_c5',\n",
       " 'exp14_m1s2_c84',\n",
       " 'exp14_m1s2_c89',\n",
       " 'exp14_m1s2_c90',\n",
       " 'exp14_m1s4_c42',\n",
       " 'exp14_m1s4_c44',\n",
       " 'exp14_m1s4_c45',\n",
       " 'exp14_m1s4_c6',\n",
       " 'exp14_m1s4_c9']"
      ]
     },
     "execution_count": 238,
     "metadata": {},
     "output_type": "execute_result"
    }
   ],
   "source": [
    "idx"
   ]
  },
  {
   "cell_type": "code",
   "execution_count": 31,
   "metadata": {
    "collapsed": false,
    "scrolled": true
   },
   "outputs": [
    {
     "name": "stdout",
     "output_type": "stream",
     "text": [
      "Experiment:  14\n",
      "Group: 3\n",
      "m2s1\n",
      "   Total episodes:  200\n",
      "   Total stims per episode:  8\n",
      "Tot stim:  1600\n",
      "Tot stim:  1600\n",
      "   building psths  tot neurons:  33\n",
      "m2s2\n",
      "   Total episodes:  200\n",
      "   Total stims per episode:  8\n",
      "Tot stim:  1600\n",
      "Tot stim:  1600\n",
      "   building psths  tot neurons:  10\n",
      "m2s3\n",
      "   Total episodes:  200\n",
      "   Total stims per episode:  8\n",
      "Tot stim:  1600\n",
      "Tot stim:  1600\n",
      "   building psths  tot neurons:  28\n",
      "m2s4\n",
      "   Total episodes:  200\n",
      "   Total stims per episode:  8\n",
      "Tot stim:  1600\n",
      "Tot stim:  1600\n",
      "   building psths  tot neurons:  16\n",
      "   saving\n"
     ]
    },
    {
     "ename": "NameError",
     "evalue": "name 'M2' is not defined",
     "output_type": "error",
     "traceback": [
      "\u001b[1;31m---------------------------------------------------------------------------\u001b[0m",
      "\u001b[1;31mNameError\u001b[0m                                 Traceback (most recent call last)",
      "\u001b[1;32m<ipython-input-31-ee2767eb943f>\u001b[0m in \u001b[0;36m<module>\u001b[1;34m()\u001b[0m\n\u001b[0;32m    119\u001b[0m             \u001b[0mfilesave\u001b[0m \u001b[1;33m=\u001b[0m\u001b[0mrootFdata\u001b[0m \u001b[1;33m+\u001b[0m\u001b[1;34m'Expect_git/data/psthdata'\u001b[0m \u001b[1;33m+\u001b[0m \u001b[0mstr\u001b[0m\u001b[1;33m(\u001b[0m\u001b[0mexpe\u001b[0m\u001b[1;33m)\u001b[0m \u001b[1;33m+\u001b[0m \u001b[1;34m'm'\u001b[0m \u001b[1;33m+\u001b[0m \u001b[0mstr\u001b[0m\u001b[1;33m(\u001b[0m\u001b[0mmeas\u001b[0m\u001b[1;33m[\u001b[0m\u001b[1;36m1\u001b[0m\u001b[1;33m]\u001b[0m\u001b[1;33m)\u001b[0m \u001b[1;33m+\u001b[0m \u001b[1;34m'M2'\u001b[0m\u001b[1;33m\u001b[0m\u001b[0m\n\u001b[0;32m    120\u001b[0m         \u001b[1;32melse\u001b[0m\u001b[1;33m:\u001b[0m\u001b[1;33m\u001b[0m\u001b[0m\n\u001b[1;32m--> 121\u001b[1;33m             \u001b[0mfilesave\u001b[0m \u001b[1;33m=\u001b[0m\u001b[0mrootFdata\u001b[0m \u001b[1;33m+\u001b[0m\u001b[1;34m'Expect_git/data/'\u001b[0m\u001b[1;33m+\u001b[0m \u001b[1;34m'psthdataMultiR'\u001b[0m \u001b[1;33m+\u001b[0m \u001b[0mstr\u001b[0m\u001b[1;33m(\u001b[0m\u001b[0mexpe\u001b[0m\u001b[1;33m)\u001b[0m\u001b[1;33m+\u001b[0m \u001b[1;34m'm'\u001b[0m \u001b[1;33m+\u001b[0m \u001b[0mstr\u001b[0m\u001b[1;33m(\u001b[0m\u001b[0mmeas\u001b[0m\u001b[1;33m[\u001b[0m\u001b[1;36m1\u001b[0m\u001b[1;33m]\u001b[0m\u001b[1;33m)\u001b[0m \u001b[1;33m+\u001b[0m \u001b[0mM2\u001b[0m\u001b[1;33m\u001b[0m\u001b[0m\n\u001b[0m\u001b[0;32m    122\u001b[0m \u001b[1;33m\u001b[0m\u001b[0m\n\u001b[0;32m    123\u001b[0m         \u001b[0msave_obj\u001b[0m\u001b[1;33m(\u001b[0m\u001b[0mPSTHall\u001b[0m\u001b[1;33m,\u001b[0m\u001b[0mfilesave\u001b[0m\u001b[1;33m)\u001b[0m\u001b[1;33m\u001b[0m\u001b[0m\n",
      "\u001b[1;31mNameError\u001b[0m: name 'M2' is not defined"
     ]
    }
   ],
   "source": [
    "global binname, textname\n",
    "#---------------------------------------------------------------------------------------\n",
    "SelExp = [14]                         #select experiment numbers!\n",
    "grupete = [3]   #select cluster groups! 2 for good clusters 1 for multiunits, 3 for unsorted\n",
    "\n",
    "#select measurement and/or shanks!\n",
    "\n",
    "Measurementss = ['m1s1','m1s2','m1s3','m1s4']#m164[2:3]           #['m1s1']#['m3s1','m3s3']#m12[-4:]#['m1s1','m1s2','m1s3','m1s4']   \n",
    "Measurements = ['m2s1','m2s2','m2s3','m2s4']#m164[2:3]           #['m1s1']#['m3s1','m3s3']#m12[-4:]#['m1s1','m1s2','m1s3','m1s4']   \n",
    "\n",
    "rootF = '/media/matias/DATA/WORKSPACE2/EXP_14/'    \n",
    "rootFdata = '/media/matias/DATA/WORKSPACE2/'    \n",
    "\n",
    "stimfile1 = rootF + 'EXTRACTS/EXPECT-160811-1-stims.txt'\n",
    "stimfile2 = rootF + 'EXTRACTS/EXPECT-160811-2-stims.txt'\n",
    "#stimfiles = [stimfile1,stimfile2]\n",
    "stimfiles = [stimfile2]\n",
    "\n",
    "#sp_file = rootF + 'm3s4disconected/All-160809-3_ele25_ele32.kwik'\n",
    "\n",
    "ShankSel = ['ele01_ele16','ele17_ele32','ele33_ele48','ele49_ele64']\n",
    "sp_file=[]\n",
    "i=0\n",
    "for sh in ShankSel:\n",
    "    sp_file.append(rootF + Measurementss[i] +'/All-EXP_14_160811_' + sh + '.kwik')\n",
    "    i+=1\n",
    "    \n",
    "\n",
    "timefile1 = rootF + 'EXTRACTS/EXPECT-160811-1-times.txt'\n",
    "timefile2 = rootF + 'EXTRACTS/EXPECT-160811-2-times.txt'\n",
    "#timefiles = [timefile1,timefile2]\n",
    "timefiles = [timefile2]\n",
    "\n",
    "eptimes1 = 1218008  # = 40.600267 s x 200 = 8120.0534 s\n",
    "eptimes2 = 1218008  # = 40.600267 s x 200 = 8120.0534 s\n",
    "                    # time tot = 16240.1068 s\n",
    "eptimes = [eptimes1, eptimes2]        # in ms    \n",
    "\n",
    "ep1t = eptimes1*200/30000                      # if you want to load only second episode\n",
    "    \n",
    "FC_ep1=220          # time = 220* 2.7 = 594 s\n",
    "FC_ep2=182          # time = 182* 2.7 = 491.4 s\n",
    "                    # FC_time_tot = 1085.4 s\n",
    "    \n",
    "    #tot time = 16240.1068 s + 1085.4 s = 17325.5068  s\n",
    "FC_ep = [FC_ep1,FC_ep2]    \n",
    "\n",
    "dirs =[]\n",
    "#--------------------------------------------------------------------------------\n",
    "# Loop Experiments\n",
    "#--------------------------------------------------------------------------------\n",
    "last_expe=0     #we use this to load stim only when we change experiment\n",
    "for expe in SelExp:\n",
    "    \n",
    "    PSTHall = {}\n",
    "    PSTHdata = {}\n",
    "    PSTH_spikes_counts = {}\n",
    "    \n",
    "    #Measurements = sorted(Expe[expe])                         #uncommento to select all\n",
    "    Meas = Measurements\n",
    "    print('Experiment: ', expe)\n",
    "   \n",
    "    last_meas =0   #we use this to find when we change measurement to load Vtag and stim again\n",
    "    \n",
    "    #--------------------------------------------------------------------------------\n",
    "    #loop goodunits, multiunits, unsorted...\n",
    "    for group in grupete:   #2 for good clusters 1 for multiunits 3 for unsorted\n",
    "        #folder names\n",
    "        if group ==3:\n",
    "            dirs  = [rootF + 'OUTPUT/EXP_'+str(expe)]\n",
    "        if group ==2:\n",
    "            dirs  = [rootF + 'OUTPUT/EXP_'+str(expe)]\n",
    "        if group ==1:\n",
    "            dirs  = [rootF + 'OUTPUT/EXP_'+str(expe)]\n",
    "        #--------------------------------------------------------------------------------\n",
    "        #create output folders\n",
    "        for dir in dirs:\n",
    "            if not os.path.exists(dir):\n",
    "                os.makedirs(dir) \n",
    "        dire = dirs[0] +'/'\n",
    "        titles = 'Exp'+ str(expe) + '_Meas_' + Meas[0][1] + '_Shank_' + Meas[0][3]\n",
    "        #titles = 'Exp'+ str(expe) + '_Meas_1_Shank_3'# + meas[1] + '_Shank_' + meas[3]\n",
    "        #--------------------------------------------------------------------------------\n",
    "        print('Group:', group)\n",
    "        #--------------------------------------------------------------------------------\n",
    "        #loop measurements and shanks\n",
    "        #Measurements = sorted((Expe[expe]))\n",
    "        \n",
    "        for meas in Measurements:           \n",
    "            print(meas)\n",
    "            current_meas = int(meas[1])   #measurement number\n",
    "            #---------------------------------------------------------------\n",
    "            #This is to account for diffrerent stims when looping diffrerent experiments\n",
    "            if current_meas!=last_meas:\n",
    "                #stimfile = rootF + 'EXP_' + str(expe) + '/' + stimfiles[expe][current_meas-1]\n",
    "                #timefile = rootF + 'EXP_' + str(expe) + '/' +timefiles[expe][current_meas-1]\n",
    "                #epfile = rootF + 'EXP_' + str(expe) + '/' +eptimefiles[expe][current_meas-1]\n",
    "                \n",
    "                #Stims = build_dict_stim(stimfile, timefile, epfile)\n",
    "                Stims = build_dict_stim14(stimfiles, timefiles, eptimes,FC_ep,ep1t)\n",
    "          \n",
    "            \n",
    "            #select datafile\n",
    "            #sp_file = rootF + 'EXP_' + str(expe) +'/Spike_Sort/'+ meas +'/'+ Expe[expe][meas]\n",
    "            #load datafile\n",
    "            Spikes, sampling_freq = readkwikinfo(sp_file[int(meas[3])-1], group)  \n",
    "                    \n",
    "            if len(Spikes.keys())>0:                              #do only if there are clusters\n",
    "                #Build PSTHs\n",
    "                print('   building psths', ' tot neurons: ',len(Spikes.keys()))\n",
    "    \n",
    "                PSTH_data = BuildPSTH(Stims, Spikes, sampling_freq, expe, meas) \n",
    "            \n",
    "            \n",
    "            PSTHall.update(PSTH_data)\n",
    "            \n",
    "        print('   saving')\n",
    "        if group == 2:\n",
    "            filesave =rootFdata +'Expect_git/data/psthdata' + str(expe) + 'm' + str(meas[1]) + 'M2'\n",
    "        else:\n",
    "            filesave =rootFdata +'Expect_git/data/'+ 'psthdataMultiR' + str(expe)+ 'm' + str(meas[1]) + M2\n",
    "\n",
    "        save_obj(PSTHall,filesave)"
   ]
  },
  {
   "cell_type": "code",
   "execution_count": 288,
   "metadata": {
    "collapsed": false
   },
   "outputs": [
    {
     "data": {
      "text/plain": [
       "array([0, 1, 2, 3, 4, 5, 6, 7, 8, 9])"
      ]
     },
     "execution_count": 288,
     "metadata": {},
     "output_type": "execute_result"
    }
   ],
   "source": [
    "np.arange(0,10,1)"
   ]
  },
  {
   "cell_type": "code",
   "execution_count": 75,
   "metadata": {
    "collapsed": false
   },
   "outputs": [
    {
     "name": "stdout",
     "output_type": "stream",
     "text": [
      "dict_keys(['st_rep', 'st_pad', 'st_isi', 'stims_ep', 'st_times', 'st_ctrl', 'episodes', 'st_logic', 'st_types'])\n"
     ]
    },
    {
     "data": {
      "text/plain": [
       "array([[0, 0, 0, ..., 0, 0, 0],\n",
       "       [0, 0, 0, ..., 0, 0, 0],\n",
       "       [0, 0, 0, ..., 0, 0, 0],\n",
       "       ..., \n",
       "       [0, 0, 0, ..., 0, 0, 0],\n",
       "       [0, 0, 0, ..., 0, 0, 0],\n",
       "       [0, 0, 0, ..., 0, 0, 0]])"
      ]
     },
     "execution_count": 75,
     "metadata": {},
     "output_type": "execute_result"
    },
    {
     "data": {
      "image/png": "[encoded data removed]",
      "text/plain": [
       "<matplotlib.figure.Figure at 0x7efbe1280320>"
      ]
     },
     "metadata": {},
     "output_type": "display_data"
    }
   ],
   "source": [
    "a,b=get_stimtimes(stimfiles, timefiles)\n",
    "\n",
    "len(b[0])\n",
    "\n",
    "print(Stims.keys())\n",
    "for i in arange(8):\n",
    "    plot(Stims.st_times[:,i],'.')\n",
    "    \n",
    "Stims.st_rep"
   ]
  },
  {
   "cell_type": "code",
   "execution_count": null,
   "metadata": {
    "collapsed": false,
    "scrolled": true
   },
   "outputs": [],
   "source": [
    "print(Stims.keys())\n",
    "Stims.episodes\n",
    "\n",
    "print(Spikes[4].spike_times.shape)\n",
    "\n",
    "PSTH_data['exp11_m1s3_c4']\n",
    "\n",
    "Stims.st_"
   ]
  },
  {
   "cell_type": "code",
   "execution_count": 8,
   "metadata": {
    "collapsed": false
   },
   "outputs": [
    {
     "ename": "NameError",
     "evalue": "name 'getstimtimes' is not defined",
     "output_type": "error",
     "traceback": [
      "\u001b[1;31m---------------------------------------------------------------------------\u001b[0m",
      "\u001b[1;31mNameError\u001b[0m                                 Traceback (most recent call last)",
      "\u001b[1;32m<ipython-input-8-3807718e0d0b>\u001b[0m in \u001b[0;36m<module>\u001b[1;34m()\u001b[0m\n\u001b[1;32m----> 1\u001b[1;33m \u001b[0mgetstimtimes\u001b[0m\u001b[1;33m(\u001b[0m\u001b[0mstimfiles\u001b[0m\u001b[1;33m,\u001b[0m \u001b[0mtimefiles\u001b[0m\u001b[1;33m)\u001b[0m\u001b[1;33m\u001b[0m\u001b[0m\n\u001b[0m\u001b[0;32m      2\u001b[0m \u001b[1;33m\u001b[0m\u001b[0m\n\u001b[0;32m      3\u001b[0m \u001b[1;33m\u001b[0m\u001b[0m\n\u001b[0;32m      4\u001b[0m \u001b[1;33m\u001b[0m\u001b[0m\n\u001b[0;32m      5\u001b[0m \u001b[1;33m\u001b[0m\u001b[0m\n",
      "\u001b[1;31mNameError\u001b[0m: name 'getstimtimes' is not defined"
     ]
    }
   ],
   "source": [
    "\n",
    "\n",
    "\n",
    "\n",
    "\n",
    "\n",
    "\n",
    "\n",
    "\n",
    "\n",
    "\n",
    "\n",
    "\n",
    "\n",
    "\n",
    "\n",
    "Folder = '/media/matias/DATA/WORKSPACE2/Expect_git/data/'\n",
    "file = Folder + 'psthdata11'\n",
    "\n",
    "PSTH_data = load_obj(file)\n",
    "\n",
    "def build_stim(rep, isi):\n",
    "    \n",
    "    onestim =  np.append(arange(10),np.ones(10)*10, axis=0)\n",
    "    onestim = np.append(onestim,arange(9,-1,-1),axis=0)\n",
    "    \n",
    "    ttot = rep*500\n",
    "    stim = np.zeros(ttot)\n",
    "    \n",
    "    phase = isi*4\n",
    "    \n",
    "    \n",
    "    \n",
    "    for p in 500*arange(rep)+phase:\n",
    "        stim[p:p+30] = onestim\n",
    "    \n",
    "    \n",
    "    return stim\n",
    "\n",
    "\n",
    "idx = sort(list(PSTH_data.keys()))\n",
    "print(idx)\n",
    "\n",
    "ps = PSTH_data\n",
    "n = idx[2]\n",
    "\n",
    "print(ps[n].keys())\n",
    "\n",
    "ps[n].Normal.keys()\n",
    "\n",
    "fig = figure(figsize=(20,5))\n",
    "\n",
    "rep=10\n",
    "isi=20\n",
    "pad='ROW'\n",
    "\n",
    "n1 =hist(ps[n].Normal.hold[pad][rep][isi], bins=100)\n",
    "stim = build_stim(rep,isi)\n",
    "\n",
    "plot(stim)\n",
    "\n",
    "print(n)\n",
    "#xlim(650,850)"
   ]
  },
  {
   "cell_type": "code",
   "execution_count": null,
   "metadata": {
    "collapsed": false
   },
   "outputs": [],
   "source": [
    "Folder = '/media/matias/DATA/WORKSPACE2/EXP_2'        \n",
    "stimfile = Folder +'/EXPECT-151217-stims-7.txt'   \n",
    "timefile = Folder +'/EXPECT-151217-times-7.txt'   \n",
    "epfile = Folder +'/EXPECT-151217-ep_times-7.txt'   \n",
    "\n",
    "Stims = build_dict_stim(stimfile, timefile, epfile)\n",
    "\n",
    "print(Stims.keys())\n",
    "\n",
    "h = build_hist_dict()\n",
    "\n",
    "print(h.keys())\n",
    "print(h.hist_logic)\n",
    "\n",
    "print(Stims.st_logic)\n",
    "\n",
    "Stims.st_rep.shape\n",
    "\n",
    "Stims.stims_ep\n",
    "\n",
    "\n",
    "\n",
    "print(h.keys())\n",
    "\n",
    "print(h.hist_logic)\n",
    "\n",
    "h.Normal.hold.ROW[2][10]"
   ]
  },
  {
   "cell_type": "code",
   "execution_count": null,
   "metadata": {
    "collapsed": false,
    "scrolled": true
   },
   "outputs": [],
   "source": [
    "Folder = '/media/matias/DATA/WORKSPACE2/Expect_git/data/'\n",
    "file = Folder + 'psthdata2'\n",
    "\n",
    "PSTH_data = load_obj(file)\n",
    "\n",
    "def build_stim(rep, isi):\n",
    "    \n",
    "    onestim =  np.append(arange(10),np.ones(10)*10, axis=0)\n",
    "    onestim = np.append(onestim,arange(9,-1,-1),axis=0)\n",
    "    \n",
    "    ttot = rep*500\n",
    "    stim = np.zeros(ttot)\n",
    "    \n",
    "    phase = isi*4\n",
    "    \n",
    "    \n",
    "    \n",
    "    for p in 500*arange(rep)+phase:\n",
    "        stim[p:p+30] = onestim\n",
    "    \n",
    "    \n",
    "    return stim\n",
    "\n",
    "\n",
    "\n",
    "\n",
    "idx = list(PSTH_data.keys())\n",
    "print(idx)\n",
    "\n",
    "ps = PSTH_data\n",
    "n = idx[5]\n",
    "\n",
    "print(ps[n].keys())\n",
    "\n",
    "ps[n].Normal.keys()\n",
    "\n",
    "fig = figure(figsize=(20,5))\n",
    "\n",
    "rep=10\n",
    "isi=10\n",
    "\n",
    "n1 =hist(ps[n].Normal.hold.PAD[rep][isi], bins=200)\n",
    "stim = build_stim(rep,isi)\n",
    "\n",
    "plot(stim)\n",
    "\n",
    "#xlim(650,850)"
   ]
  },
  {
   "cell_type": "code",
   "execution_count": null,
   "metadata": {
    "collapsed": false
   },
   "outputs": [],
   "source": [
    "stim = build_stim(5,10)\n",
    "plot(stim[0:1000])\n",
    "\n",
    "print(Stims.keys())\n",
    "\n",
    "Stims.st_times[1]\n"
   ]
  },
  {
   "cell_type": "code",
   "execution_count": null,
   "metadata": {
    "collapsed": false
   },
   "outputs": [],
   "source": [
    "print(Stims.keys())\n",
    "\n",
    "a=[]\n",
    "for i in arange(15):\n",
    "    a.extend(Stims.st_times[i])\n",
    "    \n",
    "plot(a,'o')\n",
    "a[-1]-1171000\n"
   ]
  },
  {
   "cell_type": "code",
   "execution_count": null,
   "metadata": {
    "collapsed": true
   },
   "outputs": [],
   "source": []
  }
 ],
 "metadata": {
  "kernelspec": {
   "display_name": "Python 3",
   "language": "python",
   "name": "python3"
  },
  "language_info": {
   "codemirror_mode": {
    "name": "ipython",
    "version": 3
   },
   "file_extension": ".py",
   "mimetype": "text/x-python",
   "name": "python",
   "nbconvert_exporter": "python",
   "pygments_lexer": "ipython3",
   "version": "3.4.3"
  }
 },
 "nbformat": 4,
 "nbformat_minor": 0
}
