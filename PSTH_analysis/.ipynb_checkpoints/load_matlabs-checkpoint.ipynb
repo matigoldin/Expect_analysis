{
 "cells": [
  {
   "cell_type": "code",
   "execution_count": 16,
   "metadata": {
    "collapsed": false
   },
   "outputs": [
    {
     "name": "stdout",
     "output_type": "stream",
     "text": [
      "Populating the interactive namespace from numpy and matplotlib\n"
     ]
    }
   ],
   "source": [
    " %pylab inline"
   ]
  },
  {
   "cell_type": "code",
   "execution_count": 55,
   "metadata": {
    "collapsed": true
   },
   "outputs": [],
   "source": [
    "from scipy.io import*\n",
    "from matplotlib import *\n",
    "from numpy import*\n"
   ]
  },
  {
   "cell_type": "code",
   "execution_count": 53,
   "metadata": {
    "collapsed": false
   },
   "outputs": [],
   "source": [
    "Folder = '/home/matias/Copy/SPIKES/M67/SPIKES/n03/DATA/'\n",
    "\n",
    "\n",
    "files = ['data_M67_0.00Ae_n03.mat',\n",
    "         'data_M67_0.00Ae-agua_n03.mat'\n",
    "         'data_M67_0.25Ae_n03.mat',\n",
    "         'data_M67_0.50Ae_n03.mat',\n",
    "         'data_M67_0.75Ae_n03.mat',\n",
    "         'data_M67_1.00Ae_n03.mat',\n",
    "         'data_M67_1.25Ae_n03.mat',\n",
    "         'data_M67_1.50Ae_n03.mat',\n",
    "         'data_M67_1.75Ae_n03.mat',\n",
    "         'data_M67_2.00Ae_n03.mat']\n",
    "\n",
    "\n",
    "ele1 = loadmat(Folder +files[0])['data'][:,0]\n",
    "\n",
    "folderSave = '/home/matias/Dropbox/Drop-UNI/PROYECTOS/ENFRIA-NEURONAS/NEW_CLUSTERING'\n",
    "\n",
    "All_ele = []\n",
    "\n",
    "for n in ele1:\n",
    "    All_ele = \n",
    "\n"
   ]
  },
  {
   "cell_type": "code",
   "execution_count": 54,
   "metadata": {
    "collapsed": false
   },
   "outputs": [
    {
     "data": {
      "text/plain": [
       "array([ 0.       ,  0.       ,  0.       , ..., -0.0235599, -0.0241214,\n",
       "       -0.0160117])"
      ]
     },
     "execution_count": 54,
     "metadata": {},
     "output_type": "execute_result"
    }
   ],
   "source": [
    "ele1"
   ]
  },
  {
   "cell_type": "code",
   "execution_count": null,
   "metadata": {
    "collapsed": true
   },
   "outputs": [],
   "source": []
  }
 ],
 "metadata": {
  "kernelspec": {
   "display_name": "Python 3",
   "language": "python",
   "name": "python3"
  },
  "language_info": {
   "codemirror_mode": {
    "name": "ipython",
    "version": 3
   },
   "file_extension": ".py",
   "mimetype": "text/x-python",
   "name": "python",
   "nbconvert_exporter": "python",
   "pygments_lexer": "ipython3",
   "version": "3.4.3"
  }
 },
 "nbformat": 4,
 "nbformat_minor": 0
}
