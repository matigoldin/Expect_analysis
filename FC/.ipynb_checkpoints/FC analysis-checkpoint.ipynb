{
 "cells": [
  {
   "cell_type": "markdown",
   "metadata": {},
   "source": [
    "# FC analysis"
   ]
  },
  {
   "cell_type": "code",
   "execution_count": 22,
   "metadata": {
    "collapsed": false
   },
   "outputs": [
    {
     "name": "stdout",
     "output_type": "stream",
     "text": [
      "Populating the interactive namespace from numpy and matplotlib\n"
     ]
    },
    {
     "name": "stderr",
     "output_type": "stream",
     "text": [
      "[autoreload of fc_functions failed: Traceback (most recent call last):\n",
      "  File \"/home/matias/miniconda/lib/python3.4/site-packages/IPython/extensions/autoreload.py\", line 247, in check\n",
      "    superreload(m, reload, self.old_objects)\n",
      "ImportError: No module named 'pyplot'\n",
      "]\n",
      "WARNING: pylab import has clobbered these variables: ['rc', 'f', 'draw_if_interactive', 'figure', 'text', 'axes', 'colorbar', 'rcdefaults', 'exp', 'stackplot', 'streamplot', 'contour', 'test', 'table', 'tri', 'quiver', 'axis', 'rc_context', 'legend', 'colors']\n",
      "`%matplotlib` prevents importing * from pylab and numpy\n"
     ]
    }
   ],
   "source": [
    "%pylab inline"
   ]
  },
  {
   "cell_type": "code",
   "execution_count": 23,
   "metadata": {
    "collapsed": false
   },
   "outputs": [],
   "source": [
    "import sys, operator\n",
    "sys.path.append('/home/anthony/Documents/Etudes/M1Bio/StageM1/Analysis/FC_Analysis')\n",
    "import os as os\n",
    "import numpy as np\n",
    "#from display_all_psth.py import display_all_PSTH\n",
    "from phy.io import KwikModel\n",
    "from attrdict import AttrDict\n",
    "from  matplotlib.pyplot import *\n",
    "import  matplotlib.pyplot as plt\n",
    "\n",
    "import sys\n",
    "sys.path.append('../functions') #this is where we put all the functions.py\n",
    "\n",
    "from fc_functions import *"
   ]
  },
  {
   "cell_type": "code",
   "execution_count": 4,
   "metadata": {
    "collapsed": false,
    "scrolled": true
   },
   "outputs": [],
   "source": [
    "Folder ='/media/matias/DATA/WORKSPACE2/EXP_14/m1s1/'\n",
    "file = 'All-EXP_14_160811_ele01_ele16.kwik'\n",
    "\n",
    "data = Folder + file\n",
    "\n",
    "spikes, sample_rate = readkwikinfo(data)\n",
    "\n",
    "#spikes = readkwikinfo('EXPECT-160603-1_ele49_ele56.kwik')\n",
    "\n",
    "\n",
    "#f =io.loadmat('./FC5/times_Channel8.mat')\n",
    "#spikes = readmat('./FC5/times_Channel2.mat')\n",
    "\n",
    "#spikes[4]\n"
   ]
  },
  {
   "cell_type": "code",
   "execution_count": null,
   "metadata": {
    "collapsed": true
   },
   "outputs": [],
   "source": [
    "Folder ='/media/matias/DATA/WORKSPACE2/EXP_13/m3s4/'\n",
    "file = 'All-160809-3_ele25_ele32.kwik'\n",
    "\n",
    "data = Folder + file\n",
    "\n",
    "spikes, sample_rate = readkwikinfo(data)"
   ]
  },
  {
   "cell_type": "code",
   "execution_count": 5,
   "metadata": {
    "collapsed": false,
    "scrolled": true
   },
   "outputs": [
    {
     "data": {
      "text/plain": [
       "{22: AttrDict({'spike_times': array([  8.52800000e-01,   1.75430000e+00,   2.02680000e+00, ...,\n",
       "         1.73224146e+04,   1.73228446e+04,   1.73238257e+04])}),\n",
       " 62: AttrDict({'spike_times': array([  2.28666667e-01,   2.63366667e-01,   5.39133333e-01, ...,\n",
       "         1.73248764e+04,   1.73249125e+04,   1.73253929e+04])}),\n",
       " 69: AttrDict({'spike_times': array([  4.33333333e-03,   1.55400000e-01,   1.57966667e-01, ...,\n",
       "         1.73169262e+04,   1.73184590e+04,   1.73229513e+04])}),\n",
       " 71: AttrDict({'spike_times': array([  1.65066667e-01,   1.72333333e-01,   1.76223333e+00, ...,\n",
       "         1.73234979e+04,   1.73239227e+04,   1.73244245e+04])}),\n",
       " 75: AttrDict({'spike_times': array([  1.33666667e-02,   1.64333333e-02,   1.68466667e-01, ...,\n",
       "         1.73249264e+04,   1.73254017e+04,   1.73254047e+04])})}"
      ]
     },
     "execution_count": 5,
     "metadata": {},
     "output_type": "execute_result"
    }
   ],
   "source": [
    "spikes"
   ]
  },
  {
   "cell_type": "code",
   "execution_count": 7,
   "metadata": {
    "collapsed": false
   },
   "outputs": [
    {
     "data": {
      "text/plain": [
       "30000.0"
      ]
     },
     "execution_count": 7,
     "metadata": {},
     "output_type": "execute_result"
    }
   ],
   "source": [
    "sample_rate"
   ]
  },
  {
   "cell_type": "markdown",
   "metadata": {},
   "source": [
    "## Building and displaying"
   ]
  },
  {
   "cell_type": "code",
   "execution_count": 6,
   "metadata": {
    "collapsed": false
   },
   "outputs": [
    {
     "name": "stdout",
     "output_type": "stream",
     "text": [
      "exp14_m1s1_c75\n",
      "counted \n",
      "got hist data \n",
      "exp14_m1s1_c71\n",
      "counted \n",
      "got hist data \n",
      "exp14_m1s1_c62\n",
      "counted \n",
      "got hist data \n",
      "exp14_m1s1_c22\n",
      "counted \n",
      "got hist data \n",
      "exp14_m1s1_c69\n",
      "counted \n",
      "got hist data \n"
     ]
    }
   ],
   "source": [
    "exp = '14'\n",
    "shank = 'm1s1'\n",
    "episodes = 220\n",
    "\n",
    "t_before = 10  # in ms\n",
    "t_after = 70   # in ms\n",
    "\n",
    "a = BuildPSTH(spikes, sample_rate, t_before, t_after, FCtimes(), exp , shank, episodes)"
   ]
  },
  {
   "cell_type": "code",
   "execution_count": 8,
   "metadata": {
    "collapsed": false
   },
   "outputs": [
    {
     "name": "stdout",
     "output_type": "stream",
     "text": [
      "exp14_m1s1_c62\n",
      "exp14_m1s1_c75\n",
      "exp14_m1s1_c69\n",
      "exp14_m1s1_c71\n",
      "exp14_m1s1_c22\n"
     ]
    }
   ],
   "source": [
    "counts = {}\n",
    "histdata = {}\n",
    "\n",
    "for codename in list(a.keys()):\n",
    "    counts.update({str(a[codename].clusnum): a[codename].psth_counts})\n",
    "    histdata.update({str(a[codename].clusnum): a[codename].psth_times})\n",
    "    print(codename)\n"
   ]
  },
  {
   "cell_type": "code",
   "execution_count": 21,
   "metadata": {
    "collapsed": false,
    "scrolled": true
   },
   "outputs": [
    {
     "name": "stdout",
     "output_type": "stream",
     "text": [
      "looping neurons:  22\n",
      "81.0 histlength\n",
      "373.0 414.0\n",
      "looping whiskers\n",
      "looping neurons:  62\n",
      "81.0 histlength\n",
      "1352.0 1425.0\n",
      "looping whiskers\n",
      "looping neurons:  69\n",
      "81.0 histlength\n",
      "5602.0 5579.0\n",
      "looping whiskers\n",
      "looping neurons:  71\n",
      "81.0 histlength\n",
      "566.0 627.0\n",
      "looping whiskers\n",
      "looping neurons:  75\n",
      "81.0 histlength\n",
      "6517.0 6577.0\n",
      "looping whiskers\n",
      "printing\n"
     ]
    },
    {
     "name": "stderr",
     "output_type": "stream",
     "text": [
      "/home/matias/miniconda/lib/python3.4/site-packages/ipykernel/__main__.py:79: DeprecationWarning: using a non-integer number instead of an integer will result in an error in the future\n",
      "/home/matias/miniconda/lib/python3.4/site-packages/ipykernel/__main__.py:80: DeprecationWarning: using a non-integer number instead of an integer will result in an error in the future\n"
     ]
    },
    {
     "data": {
      "image/png": "[encoded data removed]",
      "text/plain": [
       "<matplotlib.figure.Figure at 0x7fde4a441e48>"
      ]
     },
     "metadata": {},
     "output_type": "display_data"
    },
    {
     "data": {
      "text/plain": [
       "<matplotlib.figure.Figure at 0x7fde4a441470>"
      ]
     },
     "metadata": {},
     "output_type": "display_data"
    },
    {
     "data": {
      "text/plain": [
       "<matplotlib.figure.Figure at 0x7fde2f6c3f60>"
      ]
     },
     "metadata": {},
     "output_type": "display_data"
    },
    {
     "data": {
      "text/plain": [
       "<matplotlib.figure.Figure at 0x7fde2e80bf60>"
      ]
     },
     "metadata": {},
     "output_type": "display_data"
    },
    {
     "data": {
      "text/plain": [
       "<matplotlib.figure.Figure at 0x7fde2d94f9b0>"
      ]
     },
     "metadata": {},
     "output_type": "display_data"
    },
    {
     "data": {
      "text/plain": [
       "<matplotlib.figure.Figure at 0x7fde2ca8dc88>"
      ]
     },
     "metadata": {},
     "output_type": "display_data"
    }
   ],
   "source": [
    "Folder = '/home/matias/WORKSPACE/EXPECTANCY/'\n",
    "#display_all_PSTHs_of_recording(2, histdata, counts, Folder, 0.010, 0.070, 2, 'EXP2_FC5_' + str(channel))\n",
    "#display_all_PSTHs_of_recording(exp, histdata, counts, Folder, 0.010, 0.070, 2, 'EXP11_FC1_')\n",
    "group = 2\n",
    "display_all_PSTHs_of_recording(exp, histdata, counts, Folder, 0.010, 0.070, group, 'EXP14_FC1_')\n",
    "\n"
   ]
  },
  {
   "cell_type": "code",
   "execution_count": 20,
   "metadata": {
    "collapsed": true
   },
   "outputs": [],
   "source": [
    "#----------------------------------------------------------------------------------------\n",
    "# DISPLAY PSTH \n",
    "#----------------------------------------------------------------------------------------\n",
    "def display_all_PSTHs_of_recording(expe, histdata, counts, pdf_files_directory, t_before, t_after, grupete, titles) :\n",
    "    \n",
    "    fig = plt.figure(figsize=(12,16.5))\n",
    "    nrns = len(histdata.keys())\n",
    "    if nrns <16: \n",
    "        layout = [5,3]\n",
    "    else: layout = [nrns//3+(nrns%3!=0),3]\n",
    "    outer_grid = gridspec.GridSpec(layout[0], layout[1], wspace=0.1, hspace=0.2)\n",
    "    \n",
    "    ii=0\n",
    "    orderneurons = np.sort(list(histdata.keys()))\n",
    "    for neuron in orderneurons:\n",
    "        totalup = 0\n",
    "        totaldown = 0\n",
    "        for i in np.arange(25, dtype='int') :\n",
    "            totalup+=counts[neuron][i][0]\n",
    "            totaldown+=counts[neuron][i][1]\n",
    "        \n",
    "  \n",
    "        inner_grid = gridspec.GridSpecFromSubplotSpec(5,5,subplot_spec=outer_grid[ii], wspace=0.1, hspace=0.1)\n",
    "               \n",
    "        numspikesP= totalup                  \n",
    "        numspikesN= totaldown\n",
    "        \n",
    "        Sig = numpy.zeros(25, dtype=bool)\n",
    "        PW = 20\n",
    "        \n",
    "        \n",
    "        print('looping neurons: ', neuron)\n",
    "        display_PSTH(expe, histdata[neuron], counts[neuron], t_before, t_after, fig, inner_grid, neuron)                               \n",
    "        \n",
    "        if grupete ==1:\n",
    "            fig.suptitle(titles + '_multiunits',fontsize=16)\n",
    "        elif grupete ==3:\n",
    "            fig.suptitle(titles + '_responsiveMULTIUNITS',fontsize=16)\n",
    "        else:\n",
    "            fig.suptitle(titles ,fontsize=16)\n",
    "        \n",
    "        ii+=1\n",
    "    if grupete ==1:                  \n",
    "        fig.savefig(pdf_files_directory + titles + '_hist_multi.pdf', format='pdf')\n",
    "    elif grupete==3:\n",
    "        fig.savefig(pdf_files_directory + titles + '_hist_respMULTI.pdf', format='pdf')\n",
    "    else:     \n",
    "        print('printing')\n",
    "        fig.savefig(pdf_files_directory + titles + '_hist.pdf', format='pdf')\n",
    "\n",
    "\n",
    "# FUNCTIONS SURPRISE FOR single neuron\n",
    "# Made for plotting in the surprise analysis\n",
    "\n",
    "#----------------------------------------------------------------------------------------\n",
    "# DISPLAY PSTH \n",
    "#----------------------------------------------------------------------------------------\n",
    "# Plot a single neuron PSTH, 25 piezos\n",
    "def display_PSTH(expe, histdata, counts, t_before, t_after, fig, inner_grid, n) :\n",
    "   \n",
    "    #-------------------------------------------\n",
    "    # Getting data from pickles    \n",
    "    #PW = sigdata.PW                 # PW for both directions\n",
    "    #Sig = sigdata.Sig               # Responsive whiskers (significant)\n",
    "    #SigTop = sigdata.Sig_top        # Top Significant\n",
    "    #Sig_st = sigdata.Sig_strength   # Response strength\n",
    "    \n",
    "    #cgreen = '#ccffcc'\n",
    "    #cblue=   '#ccccff'\n",
    "    #cmix =   '#ffcccc' \n",
    "    #-------------------------------------------\n",
    "    # To build histogram values. Here we get number of counts, and get normalization factors\n",
    "    histlength = (t_before + t_after)*1000 + 1\n",
    "    \n",
    "    print(histlength , 'histlength')\n",
    "    \n",
    "    numspikesP=0\n",
    "    numspikesN=0\n",
    "    nup = np.zeros((25,histlength-1))\n",
    "    ndown = np.zeros((25,histlength-1))\n",
    "    fig2 = plt.figure()\n",
    "    ax = fig2.add_subplot(1,1,1)\n",
    "    \n",
    "   \n",
    "    for i in range(25) :\n",
    "        if counts[i][0]>0:\n",
    "            n1, bins, patches = ax.hist(histdata[i][0], bins = np.linspace(-t_before,t_after, histlength))\n",
    "            nup[i,:] = n1\n",
    "        if counts[i][1]>0 :\n",
    "            n2, bins, patches = ax.hist(histdata[i][1], bins = np.linspace(-t_before,t_after, histlength))\n",
    "            ndown[i,:] = n2\n",
    "    numspikesP = np.sum(nup)\n",
    "    numspikesN = np.sum(ndown)\n",
    "    \n",
    "    print(numspikesP, numspikesN)\n",
    "    \n",
    "    normnum = (1/np.sum(numspikesP+numspikesN))\n",
    "    height = np.max(np.array([np.max(nup), np.max(ndown)]))/(1/normnum)\n",
    "    clf() \n",
    "    #-------------------------------------------\n",
    "    # Building a plot for each whisker\n",
    "    print('looping whiskers')\n",
    "    for j in range(25) : #I use a dummy variable to sort whisker problems in exp23, j: indicates position, w: data\n",
    "        w=j\n",
    "        ax1 = Subplot(fig, inner_grid[j])  # assign plot location, then reasign whisker\n",
    "        \n",
    "       \n",
    "        if j == 0 :       #generate the first axe to share scales\n",
    "            ax1 = Subplot(fig, inner_grid[j],sharex=ax1,sharey=ax1)     \n",
    "            ax1.set_xticks([])\n",
    "            ax1.set_yticks([])\n",
    "        elif j==20 :  # for the blank whisker we draw a thin box\n",
    "            ax1 = Subplot(fig,inner_grid[j],sharex=ax1,sharey=ax1)\n",
    "            ax1.spines['right'].set_linewidth(0.3)\n",
    "            ax1.spines['top'].set_linewidth(0.3)\n",
    "            ax1.spines['left'].set_linewidth(0.3)\n",
    "            ax1.spines['bottom'].set_linewidth(0.3)\n",
    "            ax1.set_xticks([])\n",
    "            ax1.set_yticks([])\n",
    "        else :\n",
    "            ax1 = Subplot(fig,inner_grid[j],sharex=ax1,sharey=ax1)\n",
    "            ax1.set_xticks([])\n",
    "            ax1.set_yticks([])\n",
    "        \n",
    "              \n",
    "        if j!=20:\n",
    "            ax1.spines['right'].set_visible(False)\n",
    "            ax1.spines['top'].set_visible(False)\n",
    "            ax1.spines['left'].set_visible(False)\n",
    "            ax1.spines['bottom'].set_visible(False)\n",
    "        #-------------------------------------------------------\n",
    "        # Plot the histograms\n",
    "        if np.sum(ndown[w,:])>0:#histdata[w][1].size :\n",
    "            ax1.hist(histdata[w][1], bins = np.linspace(-t_before, t_after, histlength), color='g', alpha=1.0, edgecolor='none', histtype='stepfilled', label='Pos', weights=np.repeat(normnum, len(histdata[w][1])))\n",
    "            #ax1.hist(histdata[w][1], bins = np.linspace(-t_before, t_after, histlength), color='g', alpha=1.0, edgecolor='none', histtype='stepfilled', label='Pos')\n",
    "        if np.sum(nup[w,:])>0:#histdata[w][0].size :\n",
    "            ax1.hist(histdata[w][0], bins = np.linspace(-t_before, t_after, histlength), color='b', alpha=0.7, edgecolor='none', histtype='stepfilled', label='Neg', weights=np.repeat(normnum, len(histdata[w][0]))) \n",
    "            #ax1.hist(histdata[w][0], bins = np.linspace(-t_before, t_after, histlength), color='b', alpha=0.7, edgecolor='none', histtype='stepfilled', label='Neg') \n",
    "        #-------------------------------------------------------\n",
    "        # Set limits and plot 0 line\n",
    "        ax1.set_xlim(-t_before, t_after)\n",
    "        ax1.axvline(0, color = 'r', linewidth=1)\n",
    "        ax1.axhline(0, color = 'r', linewidth=2)\n",
    "        ymax = 1.02 * height\n",
    "        ax1.set_ylim(0, ymax)\n",
    "        #-------------------------------------------------------\n",
    "        # Plot stimulus\n",
    "        xvals = np.array([0,0.010,0.020,0.030])\n",
    "        yvals = np.array([0,ymax*0.9,ymax*0.9,0])\n",
    "        ax1.plot(xvals, yvals, linewidth=0.2,color = (0.75,0.75,0.75))\n",
    "        #-------------------------------------------------------\n",
    "        # Annotating the plot\n",
    "\n",
    "        if w==4: ax1.set_title('ymax =' + str( np.around(height,decimals = 3) ),fontsize=8)\n",
    "        if w ==1: ax1.set_title('Nrn' + n + '_Pos' + str(int(numspikesP))+ '_Neg' + str(int(numspikesN)),fontsize=12)\n",
    "        fig.add_subplot(ax1)\n",
    "\n"
   ]
  },
  {
   "cell_type": "code",
   "execution_count": null,
   "metadata": {
    "collapsed": true
   },
   "outputs": [],
   "source": []
  },
  {
   "cell_type": "code",
   "execution_count": null,
   "metadata": {
    "collapsed": true
   },
   "outputs": [],
   "source": []
  },
  {
   "cell_type": "code",
   "execution_count": null,
   "metadata": {
    "collapsed": true
   },
   "outputs": [],
   "source": []
  },
  {
   "cell_type": "code",
   "execution_count": null,
   "metadata": {
    "collapsed": true
   },
   "outputs": [],
   "source": []
  },
  {
   "cell_type": "code",
   "execution_count": 6,
   "metadata": {
    "collapsed": false
   },
   "outputs": [
    {
     "ename": "SyntaxError",
     "evalue": "invalid syntax (<ipython-input-6-e1b96ec0bc29>, line 17)",
     "output_type": "error",
     "traceback": [
      "\u001b[1;36m  File \u001b[1;32m\"<ipython-input-6-e1b96ec0bc29>\"\u001b[1;36m, line \u001b[1;32m17\u001b[0m\n\u001b[1;33m    timesUP[w] = []                  fill it!!!\u001b[0m\n\u001b[1;37m                                        ^\u001b[0m\n\u001b[1;31mSyntaxError\u001b[0m\u001b[1;31m:\u001b[0m invalid syntax\n"
     ]
    }
   ],
   "source": [
    "#Making the 50 psth time_lists\n",
    "\n",
    "\n",
    "#starts are FCtimes\n",
    "#len(stim) is your number of episodes\n",
    "#timesUP and timesDOWNS are your FCtimes arranged with FCsequence\n",
    "#codename: how you label your neuron\n",
    "\n",
    "#----------------------------------------------------------------------------------------\n",
    "# BUILDS PSTH\n",
    "#----------------------------------------------------------------------------------------\n",
    "def BuildPSTH(stim,stimtype, Spikes, sampling_freq, t_before, t_after, starts, stops, exp, meas) :\n",
    "## The first task is to find the stimulus onset times for each whisker in each sweep in each direction\n",
    "\n",
    "\n",
    "    stimtimes = {}\n",
    "    timesUP[w] = []                  fill it!!!\n",
    "    timesDOWN[w] = []                fill it!!!\n",
    "\n",
    "\n",
    "    # make an 'output dict'\n",
    "    # the PSTH will be built on -tbefore:tafter\n",
    "    hist_inds = {}\n",
    "    PSTH = {}\n",
    "    psth = dict()\n",
    "    psth_times = dict()\n",
    "\n",
    "    # Loop each neuron and get the spikes.\n",
    "    for neuron in list(Spikes.keys()):\n",
    "\n",
    "        codename = 'exp'+ str(exp) + '_' + str(meas) + '_c' + str(neuron)\n",
    "\n",
    "        psth = AttrDict({'clusnum': neuron,'exp' : int(exp) , 'meas': int(meas[1]) , 'shank': int(meas[3])})\n",
    "\n",
    "        psth.update(AttrDict({'psth_counts': [] , 'psth_times': [] , 'psth_length': [t_before,t_after] }))\n",
    "\n",
    "        psth['psth_counts'], psth['psth_times'] = PSTH_spikes(stim, stimtype, stimtimes, Spikes[neuron].spike_times, sampling_freq, t_before, t_after, starts, stops)\n",
    "\n",
    "        PSTH[codename] = psth\n",
    "\n",
    "    return PSTH\n"
   ]
  },
  {
   "cell_type": "code",
   "execution_count": null,
   "metadata": {
    "collapsed": true
   },
   "outputs": [],
   "source": [
    "# ORIGINAL MAGIC FUNCTION\n",
    "\n",
    "\n",
    "#----------------------------------------------------------------------------------------\n",
    "# PSTH SPIKES\n",
    "#----------------------------------------------------------------------------------------\n",
    "\n",
    "def PSTH_spikes(stimulation, stimtimes, spikes, samp, t_before, t_after, starts):\n",
    "    \"\"\"\n",
    "    stimulation   : a list of numpy arrays with a n*t stimulus inside\n",
    "    stimtimes     : a list of times the stimulus occurred for each whisker\n",
    "    spikes        : an array that contains the spike times (s)\n",
    "    Vtag1         : synchronises stimulus with spike times\n",
    "    samp          : sampling rate of the stimulation (Hz)\n",
    "    t_before      : duration before the stim (positive, s)\n",
    "    t_after       : duration after the stim (positive, s)\n",
    "    starts        : the start of the F sweeps\n",
    "    stops         : the stops of the F sweeps\n",
    "    \"\"\"\n",
    "\n",
    "    stim_samp = 1/.0009997575757\n",
    "    \n",
    "    spikes_test = spikes[6].spike_times\n",
    "\n",
    "    \n",
    "    spikecountsup = 0\n",
    "    spikecountsdown = 0\n",
    "    PSTH_spike_counts = {}\n",
    "\n",
    "    \n",
    "    \n",
    "    \n",
    "    \n",
    "    \n",
    "    PSTH_spike_counts = {}\n",
    "    for w in np.arange(25, dtype='int') :\n",
    "        spikecountsup = 0\n",
    "        spikecountsdown = 0\n",
    "\n",
    "\n",
    "#COMMENT: in this loop you put the real times. In your case you have to add 3.1 seconds per episode.\n",
    "#It also counts the number of spikes for each w,z pair\n",
    "\n",
    "        for i in np.arange(len(stimulation), dtype='int') :\n",
    "            for x in np.arange(len(stimtimes[w][0][i]), dtype='int') :  # we must look at the number of stimulations per whisker per stimulation block and this is no longer 4\n",
    "                timesUP = starts[i] + stimtimes[w][0][i][x]/stim_samp # stimtimes is now stimtimes[whisker][0 for UP, 1 for DOWN][stimsweep][trial]\n",
    "                spikecountsup += len(spikes[(timesUP - t_before < spikes) * (spikes < timesUP + t_after)]) # count spikes that are within PSTH window of stimtimes\n",
    "            for y in np.arange(len(stimtimes[w][1][i]), dtype='int') : # for the DOWN stimuli we must have a separate loop because they also are now randomly distributed and not 4\n",
    "                timesDOWN = starts[i] + stimtimes[w][1][i][y]/stim_samp\n",
    "                spikecountsdown += len(spikes[(timesDOWN - t_before < spikes) * (spikes < timesDOWN + t_after)])\n",
    "        PSTH_spike_counts[w] = spikecountsup, spikecountsdown\n",
    "\n",
    "    hist_inds = {} #same changes for this block, each loop will change length depending on how many stimulations fall in a sweep\n",
    "    for w in np.arange(25, dtype='int') :\n",
    "        hist_inds[w] = np.zeros(PSTH_spike_counts[w][0]), np.zeros(PSTH_spike_counts[w][1])\n",
    "        spikecountsup = 0\n",
    "        spikecountsdown = 0\n",
    "        for i in np.arange(len(stimulation), dtype='int') :\n",
    "            for x in np.arange(len(stimtimes[w][0][i]), dtype='int') :     # dynamic loop depends on how many stims fall in sweep\n",
    "                timesUP = starts[i] + stimtimes[w][0][i][x]/stim_samp\n",
    "                spikecountup = len(spikes[(timesUP - t_before < spikes) * (spikes < timesUP + t_after)])\n",
    "                spikeidxup = spikes[(timesUP - t_before < spikes) * (spikes < timesUP + t_after)]\n",
    "                #spikeidxup = ((spikeidxup - starts[i])/float(stops[i] - starts[i])*len(stimulation[i,0]))\n",
    "                hist_inds[w][0][spikecountsup:(spikecountsup+spikecountup)] = spikeidxup-timesUP#stimtimes[w][0][i][x]/float(stops[i] - starts[i])*len(stimulation[i,0])\n",
    "                spikecountsup += spikecountup\n",
    "\n",
    "            for y in np.arange(len(stimtimes[w][1][i]), dtype='int') :     # dynamic loop depends on how many stims fall in sweep\n",
    "                timesDOWN = starts[i] + stimtimes[w][1][i][y]/stim_samp\n",
    "                spikecountdown = len(spikes[(timesDOWN - t_before < spikes) * (spikes < timesDOWN + t_after)])\n",
    "                spikeidxdown = spikes[(timesDOWN - t_before < spikes) * (spikes < timesDOWN + t_after)]\n",
    "                #spikeidxdown = ((spikeidxdown - starts[i])/float(stops[i] - starts[i])*len(stimulation[i,0]))\n",
    "                hist_inds[w][1][spikecountsdown:(spikecountsdown+spikecountdown)] = spikeidxdown-timesDOWN#stimtimes[w][1][i][y]/float(stops[i] - starts[i])*len(stimulation[i,0])\n",
    "                spikecountsdown += spikecountdown\n",
    "\n",
    "    return PSTH_spike_counts, hist_inds\n",
    "\n",
    "# March 25 we took out the rounding from this function, to keep the actual times with respect to stim.\n",
    "# April modified a little to be more precise with absolute times."
   ]
  }
 ],
 "metadata": {
  "kernelspec": {
   "display_name": "Python 3",
   "language": "python",
   "name": "python3"
  },
  "language_info": {
   "codemirror_mode": {
    "name": "ipython",
    "version": 3
   },
   "file_extension": ".py",
   "mimetype": "text/x-python",
   "name": "python",
   "nbconvert_exporter": "python",
   "pygments_lexer": "ipython3",
   "version": "3.4.3"
  }
 },
 "nbformat": 4,
 "nbformat_minor": 0
}
