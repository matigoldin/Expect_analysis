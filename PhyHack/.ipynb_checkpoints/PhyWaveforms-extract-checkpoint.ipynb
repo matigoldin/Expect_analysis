{
 "cells": [
  {
   "cell_type": "code",
   "execution_count": 7,
   "metadata": {
    "collapsed": false
   },
   "outputs": [],
   "source": [
    "import os\n",
    "import os.path as op\n",
    "import tables as tb\n",
    "import numpy as np\n",
    "from mpl_toolkits.mplot3d import Axes3D\n",
    "import matplotlib.pyplot as plt\n",
    "import logging\n",
    "import sys\n",
    "import tempfile\n",
    "import argparse\n",
    "import scipy.io\n",
    "import pylab as p\n",
    "import matplotlib.cm as cm\n",
    "import struct\n",
    "\n",
    "from h5py import Dataset\n",
    "from six import string_types\n",
    "from six.moves import zip\n",
    "\n",
    "import phy\n",
    "from phy.io import KwikModel\n",
    "from phy.io import create_kwik\n",
    "from phy.utils._misc import _read_python\n",
    "from phy.utils.logging import debug\n",
    "from phy.utils.settings import _load_default_settings, _ensure_dir_exists\n",
    "from attrdict import AttrDict\n",
    "from phy.scripts.phy_script import _create_session\n",
    "from phy.traces import Filter, Thresholder, compute_threshold, FloodFillDetector, WaveformExtractor, PCA\n",
    "from phy.detect.spikedetekt import SpikeDetekt"
   ]
  },
  {
   "cell_type": "code",
   "execution_count": 21,
   "metadata": {
    "collapsed": false
   },
   "outputs": [],
   "source": [
    "def process_matdata(matfile, channelnumber, waveformstart, waveformend) :\n",
    "    #This concatenates the waveforms and makes fake continuous data to be put into spikedetekt\n",
    "    matdata = scipy.io.loadmat(matfile)\n",
    "    \n",
    "    #Find how many spikes there were on the channel to preallocate memory for waveforms and save time\n",
    "    totalspikes = 0\n",
    "    for key in matdata.keys() :\n",
    "        if key.find('Wspk')!=-1 :\n",
    "            if key.rsplit('Wspk', 1)[1][0:-3]==channelnumber :\n",
    "                totalspikes += matdata[key].shape[1]\n",
    "\n",
    "    wave_raw = np.zeros([totalspikes, waveformend-waveformstart])\n",
    "    spike_indices = np.zeros([totalspikes])\n",
    "    metadata = {}\n",
    "    i=0\n",
    "    for key in matdata.keys() :\n",
    "        if key.find('Wspk')!=-1 :\n",
    "            if key.rsplit('Wspk', 1)[1][0:-3]==channelnumber :\n",
    "                for j in np.arange(matdata[key].shape[1]) :\n",
    "                    metadata[i] = {}\n",
    "                    #metadata[i]['episode'] = key.rsplit('Wspk', 1)[0][2:]\n",
    "                    #metadata[i]['channel'] = key.rsplit('Wspk', 1)[1][0:-3]\n",
    "                    #keyVspk = 'Ep'+metadata[i]['episode']+'Vspk'+metadata[i]['channel']+'Vu1'\n",
    "                    metadata[i]['episode'] = key.rsplit('ep', 1)[1][2:]\n",
    "                    metadata[i]['channel'] = key.rsplit('_', 1)[0][4:]\n",
    "                    #keyVspk = 'Ep'+metadata[i]['episode']+'Vspk'+metadata[i]['channel']+'Vu1'\n",
    "                    keyVspk = 'Vspk'+metadata[i]['channel']+'_ep'+metadata[i]['episode']\n",
    "                    \n",
    "                    metadata[i]['spiketime'] = matdata[keyVspk][j,0]\n",
    "                    spike_indices[i] = matdata[keyVspk][j,0]\n",
    "                    metadata[i]['episode_spikenumber'] = j\n",
    "                    wave_raw[i,:] = matdata[key][waveformstart:waveformend,j]\n",
    "                    i+=1\n",
    "        \n",
    "    cont_data = np.reshape(wave_raw, [np.size(wave_raw)])\n",
    "    cont_data = cont_data.astype(np.int32)\n",
    "    \n",
    "    f = open('data.dat','wb')\n",
    "    data = bytearray()\n",
    "    for i in np.arange(len(cont_data)) :\n",
    "        data.extend(struct.pack('l', cont_data[i]))\n",
    "    f.write(data)\n",
    "    f.close()\n",
    "\n",
    "    return wave_raw, spike_indices, metadata\n",
    "    # returning all waves, indices and metadata and saving the file for klusta\n",
    "\n",
    "\n",
    "# just to save a file of spiketimes\n",
    "def write_spikestimes(filename, spike_times):\n",
    "    data = spike_times\n",
    "    np.save(filename, data)\n",
    "\n",
    "# make the files necessary to run klustakwik2, don't know for what    \n",
    "def KK2_prepare_textfiles(kwik_path, n_features, channelnumber):\n",
    "    filename, file_extension = op.splitext(kwik_path)\n",
    "    model = KwikModel(kwik_path)\n",
    "    features = model.features[:, :]\n",
    "    times = model.spike_times\n",
    "    times = np.expand_dims(times, axis=1)\n",
    "    \n",
    "    # make the text files to go into klustakwik2, fet.0 file and fmasks.0 file\n",
    "    numfeatures = n_features+1\n",
    "    data = np.concatenate((features, times), axis=1)\n",
    "\n",
    "    np.savetxt(filename + '.fet.' + channelnumber, data, header = str(numfeatures), fmt = '%10.5f', comments='', delimiter=' ')\n",
    "\n",
    "    dataMASKS = np.ones(data.shape)\n",
    "    np.savetxt(filename + '.fmask.' + channelnumber, dataMASKS, header = str(numfeatures), fmt = '%10.5f', comments='', delimiter=' ')\n",
    "\n",
    "    \n",
    "# managing the clusterfile    \n",
    "def add_clusters(clustfile, session, group):\n",
    "    \n",
    "    clusters = np.loadtxt(clustfile, dtype='int64', unpack=False)\n",
    "    numclusters = clusters[0]+1\n",
    "    clusters = clusters[1::]\n",
    "    \n",
    "    sc = clusters.astype(np.int32)\n",
    "    session.model.creator.add_clustering(group=group, name='main', spike_clusters=sc)\n",
    "    session.emit('open')\n",
    "\n",
    "# new kwik session    \n",
    "def initialize_session(paramsfile, overwrite, kwikfile):\n",
    "    \n",
    "    args = AttrDict({'file': paramsfile, 'overwrite': overwrite, 'kwikpath': kwikfile})\n",
    "    \n",
    "    params = _read_python(args.file)\n",
    "\n",
    "    kwik_path = create_kwik(args.file, overwrite=args.overwrite, kwik_path=args.kwikpath)\n",
    "    interval = None\n",
    "\n",
    "    args.file = args.kwikpath\n",
    "    session = _create_session(args, use_store=False)\n",
    "\n",
    "    return dict(session=session, interval=interval)\n",
    "\n",
    "# run spikedetect with \"fake\" data\n",
    "def run_faux_detection(session):\n",
    "    \n",
    "    sd_dir = op.join(session.settings.exp_settings_dir, 'spikedetekt')\n",
    "    _ensure_dir_exists(sd_dir)\n",
    "    interval_samples = None\n",
    "    traces = session.model.traces\n",
    "    params = session.model.metadata\n",
    "    params['probe_channels'] = session.model.probe.channels_per_group\n",
    "    params['probe_adjacency_list'] = session.model.probe.adjacency\n",
    "    debug(\"Running SpikeDetekt with the following parameters: \" \"{}.\".format(params))\n",
    "    \n",
    "    sd = SpikeDetekt(tempdir=sd_dir, **params)\n",
    "    out = sd.run_serial(traces, interval_samples=interval_samples)\n",
    "\n",
    "    return sd, out, params\n",
    "\n",
    "\n",
    "def replace_spikes(session, sd, out, wave_raw, group, n_channels, n_features):\n",
    "    out.spike_samples[0] = np.linspace(0, wave_raw.shape[1]*wave_raw.shape[0], wave_raw.shape[0]+1, dtype='int')+16\n",
    "    out.spike_samples[0] = out.spike_samples[0][0:-1] \n",
    "    spike_samples = out.spike_samples[0]\n",
    "    n_spikes = len(spike_samples) if spike_samples is not None else 0\n",
    "    spike_recordings = None\n",
    "    out.masks[0] = np.ones([len(spike_samples),1], dtype='float32')\n",
    "    wave_raw = np.expand_dims(wave_raw, axis=2)\n",
    "    pcs = sd.waveform_pcs(wave_raw, out.masks[0])\n",
    "    out.features[0] = sd.features(wave_raw, pcs)\n",
    "    \n",
    "    session.model.creator.add_spikes(group=group,\n",
    "                                spike_samples=spike_samples,\n",
    "                                spike_recordings=None,\n",
    "                                masks=out.masks[0],\n",
    "                                features=out.features[0],\n",
    "                                n_channels=n_channels,\n",
    "                                n_features=n_features,\n",
    "                                )"
   ]
  },
  {
   "cell_type": "code",
   "execution_count": 22,
   "metadata": {
    "collapsed": false
   },
   "outputs": [],
   "source": [
    "Folder = '/media/matias/DATA/WORKSPACE2/EXP_2/Spike_Sort/FC7/'\n",
    "\n",
    "matfile = Folder+'FC-151217-7_waves.mat'\n",
    "\n",
    "channelnumber = '2'   ### or 1 depending where we start coubn t\n",
    "waveformstart = 0\n",
    "waveformend = 48\n",
    "\n",
    "paramsfile= Folder + 'params.prm'\n",
    "overwrite = True\n",
    "kwik_path = Folder + 'data' + channelnumber +'.kwik'\n",
    "clustfile = Folder + 'data.clu.'+ channelnumber\n",
    "\n",
    "n_channels = 1\n",
    "\n",
    "n_features = 3\n",
    "\n",
    "group = 0"
   ]
  },
  {
   "cell_type": "code",
   "execution_count": 24,
   "metadata": {
    "collapsed": false
   },
   "outputs": [
    {
     "name": "stdout",
     "output_type": "stream",
     "text": [
      "11:46:16 [I] Saving a backup of the Kwik file in /media/matias/DATA/WORKSPACE2/EXP_2/Spike_Sort/FC7/data2.kwik.bak.\n"
     ]
    },
    {
     "ename": "ValueError",
     "evalue": "cannot mmap an empty file",
     "output_type": "error",
     "traceback": [
      "\u001b[1;31m---------------------------------------------------------------------------\u001b[0m",
      "\u001b[1;31mValueError\u001b[0m                                Traceback (most recent call last)",
      "\u001b[1;32m<ipython-input-24-0bf5f346923f>\u001b[0m in \u001b[0;36m<module>\u001b[1;34m()\u001b[0m\n\u001b[0;32m     11\u001b[0m \u001b[1;33m\u001b[0m\u001b[0m\n\u001b[0;32m     12\u001b[0m \u001b[1;31m# new session in klusta\u001b[0m\u001b[1;33m\u001b[0m\u001b[1;33m\u001b[0m\u001b[0m\n\u001b[1;32m---> 13\u001b[1;33m \u001b[0mnewsession\u001b[0m \u001b[1;33m=\u001b[0m \u001b[0minitialize_session\u001b[0m\u001b[1;33m(\u001b[0m\u001b[0mparamsfile\u001b[0m\u001b[1;33m,\u001b[0m \u001b[0moverwrite\u001b[0m\u001b[1;33m,\u001b[0m \u001b[0mkwik_path\u001b[0m\u001b[1;33m)\u001b[0m\u001b[1;33m\u001b[0m\u001b[0m\n\u001b[0m\u001b[0;32m     14\u001b[0m \u001b[1;33m\u001b[0m\u001b[0m\n\u001b[0;32m     15\u001b[0m \u001b[1;31m# running spikedetect with fake data\u001b[0m\u001b[1;33m\u001b[0m\u001b[1;33m\u001b[0m\u001b[0m\n",
      "\u001b[1;32m<ipython-input-21-3060cc72a587>\u001b[0m in \u001b[0;36minitialize_session\u001b[1;34m(paramsfile, overwrite, kwikfile)\u001b[0m\n\u001b[0;32m     92\u001b[0m \u001b[1;33m\u001b[0m\u001b[0m\n\u001b[0;32m     93\u001b[0m     \u001b[0margs\u001b[0m\u001b[1;33m.\u001b[0m\u001b[0mfile\u001b[0m \u001b[1;33m=\u001b[0m \u001b[0margs\u001b[0m\u001b[1;33m.\u001b[0m\u001b[0mkwikpath\u001b[0m\u001b[1;33m\u001b[0m\u001b[0m\n\u001b[1;32m---> 94\u001b[1;33m     \u001b[0msession\u001b[0m \u001b[1;33m=\u001b[0m \u001b[0m_create_session\u001b[0m\u001b[1;33m(\u001b[0m\u001b[0margs\u001b[0m\u001b[1;33m,\u001b[0m \u001b[0muse_store\u001b[0m\u001b[1;33m=\u001b[0m\u001b[1;32mFalse\u001b[0m\u001b[1;33m)\u001b[0m\u001b[1;33m\u001b[0m\u001b[0m\n\u001b[0m\u001b[0;32m     95\u001b[0m \u001b[1;33m\u001b[0m\u001b[0m\n\u001b[0;32m     96\u001b[0m     \u001b[1;32mreturn\u001b[0m \u001b[0mdict\u001b[0m\u001b[1;33m(\u001b[0m\u001b[0msession\u001b[0m\u001b[1;33m=\u001b[0m\u001b[0msession\u001b[0m\u001b[1;33m,\u001b[0m \u001b[0minterval\u001b[0m\u001b[1;33m=\u001b[0m\u001b[0minterval\u001b[0m\u001b[1;33m)\u001b[0m\u001b[1;33m\u001b[0m\u001b[0m\n",
      "\u001b[1;32m/home/matias/phy/phy/scripts/phy_script.py\u001b[0m in \u001b[0;36m_create_session\u001b[1;34m(args, **kwargs)\u001b[0m\n\u001b[0;32m    247\u001b[0m     \u001b[1;32mfrom\u001b[0m \u001b[0mphy\u001b[0m\u001b[1;33m.\u001b[0m\u001b[0msession\u001b[0m \u001b[1;32mimport\u001b[0m \u001b[0mSession\u001b[0m\u001b[1;33m\u001b[0m\u001b[0m\n\u001b[0;32m    248\u001b[0m     \u001b[0mkwik_path\u001b[0m \u001b[1;33m=\u001b[0m \u001b[0m_get_kwik_path\u001b[0m\u001b[1;33m(\u001b[0m\u001b[0margs\u001b[0m\u001b[1;33m)\u001b[0m\u001b[1;33m\u001b[0m\u001b[0m\n\u001b[1;32m--> 249\u001b[1;33m     \u001b[0msession\u001b[0m \u001b[1;33m=\u001b[0m \u001b[0mSession\u001b[0m\u001b[1;33m(\u001b[0m\u001b[0mkwik_path\u001b[0m\u001b[1;33m,\u001b[0m \u001b[1;33m**\u001b[0m\u001b[0mkwargs\u001b[0m\u001b[1;33m)\u001b[0m\u001b[1;33m\u001b[0m\u001b[0m\n\u001b[0m\u001b[0;32m    250\u001b[0m     \u001b[1;32mreturn\u001b[0m \u001b[0msession\u001b[0m\u001b[1;33m\u001b[0m\u001b[0m\n\u001b[0;32m    251\u001b[0m \u001b[1;33m\u001b[0m\u001b[0m\n",
      "\u001b[1;32m/home/matias/phy/phy/session/session.py\u001b[0m in \u001b[0;36m__init__\u001b[1;34m(self, kwik_path, clustering, channel_group, model, use_store, phy_user_dir, waveform_filter)\u001b[0m\n\u001b[0;32m     84\u001b[0m                                       \u001b[0mphy_user_dir\u001b[0m\u001b[1;33m=\u001b[0m\u001b[0mphy_user_dir\u001b[0m\u001b[1;33m,\u001b[0m\u001b[1;33m\u001b[0m\u001b[0m\n\u001b[0;32m     85\u001b[0m                                       \u001b[0mvm_classes\u001b[0m\u001b[1;33m=\u001b[0m\u001b[0mself\u001b[0m\u001b[1;33m.\u001b[0m\u001b[0m_vm_classes\u001b[0m\u001b[1;33m,\u001b[0m\u001b[1;33m\u001b[0m\u001b[0m\n\u001b[1;32m---> 86\u001b[1;33m                                       \u001b[0mgui_classes\u001b[0m\u001b[1;33m=\u001b[0m\u001b[0mself\u001b[0m\u001b[1;33m.\u001b[0m\u001b[0m_gui_classes\u001b[0m\u001b[1;33m,\u001b[0m\u001b[1;33m\u001b[0m\u001b[0m\n\u001b[0m\u001b[0;32m     87\u001b[0m                                       )\n\u001b[0;32m     88\u001b[0m \u001b[1;33m\u001b[0m\u001b[0m\n",
      "\u001b[1;32m/home/matias/phy/phy/io/base.py\u001b[0m in \u001b[0;36m__init__\u001b[1;34m(self, model, path, phy_user_dir, default_settings_paths, vm_classes, gui_classes)\u001b[0m\n\u001b[0;32m    380\u001b[0m         \u001b[0mself\u001b[0m\u001b[1;33m.\u001b[0m\u001b[0m_pre_open\u001b[0m\u001b[1;33m(\u001b[0m\u001b[1;33m)\u001b[0m\u001b[1;33m\u001b[0m\u001b[0m\n\u001b[0;32m    381\u001b[0m         \u001b[1;32mif\u001b[0m \u001b[0mmodel\u001b[0m \u001b[1;32mor\u001b[0m \u001b[0mpath\u001b[0m\u001b[1;33m:\u001b[0m\u001b[1;33m\u001b[0m\u001b[0m\n\u001b[1;32m--> 382\u001b[1;33m             \u001b[0mself\u001b[0m\u001b[1;33m.\u001b[0m\u001b[0mopen\u001b[0m\u001b[1;33m(\u001b[0m\u001b[0mpath\u001b[0m\u001b[1;33m,\u001b[0m \u001b[0mmodel\u001b[0m\u001b[1;33m=\u001b[0m\u001b[0mmodel\u001b[0m\u001b[1;33m)\u001b[0m\u001b[1;33m\u001b[0m\u001b[0m\n\u001b[0m\u001b[0;32m    383\u001b[0m \u001b[1;33m\u001b[0m\u001b[0m\n\u001b[0;32m    384\u001b[0m     \u001b[1;32mdef\u001b[0m \u001b[0m_create_settings\u001b[0m\u001b[1;33m(\u001b[0m\u001b[0mself\u001b[0m\u001b[1;33m,\u001b[0m \u001b[0mdefault_settings_paths\u001b[0m\u001b[1;33m)\u001b[0m\u001b[1;33m:\u001b[0m\u001b[1;33m\u001b[0m\u001b[0m\n",
      "\u001b[1;32m/home/matias/phy/phy/session/session.py\u001b[0m in \u001b[0;36mopen\u001b[1;34m(self, kwik_path, model)\u001b[0m\n\u001b[0;32m    129\u001b[0m         \u001b[1;34m\"\"\"Open a `.kwik` file.\"\"\"\u001b[0m\u001b[1;33m\u001b[0m\u001b[0m\n\u001b[0;32m    130\u001b[0m         \u001b[0mself\u001b[0m\u001b[1;33m.\u001b[0m\u001b[0m_backup_kwik\u001b[0m\u001b[1;33m(\u001b[0m\u001b[0mkwik_path\u001b[0m\u001b[1;33m)\u001b[0m\u001b[1;33m\u001b[0m\u001b[0m\n\u001b[1;32m--> 131\u001b[1;33m         \u001b[1;32mreturn\u001b[0m \u001b[0msuper\u001b[0m\u001b[1;33m(\u001b[0m\u001b[0mSession\u001b[0m\u001b[1;33m,\u001b[0m \u001b[0mself\u001b[0m\u001b[1;33m)\u001b[0m\u001b[1;33m.\u001b[0m\u001b[0mopen\u001b[0m\u001b[1;33m(\u001b[0m\u001b[0mmodel\u001b[0m\u001b[1;33m=\u001b[0m\u001b[0mmodel\u001b[0m\u001b[1;33m,\u001b[0m \u001b[0mpath\u001b[0m\u001b[1;33m=\u001b[0m\u001b[0mkwik_path\u001b[0m\u001b[1;33m)\u001b[0m\u001b[1;33m\u001b[0m\u001b[0m\n\u001b[0m\u001b[0;32m    132\u001b[0m \u001b[1;33m\u001b[0m\u001b[0m\n\u001b[0;32m    133\u001b[0m     \u001b[1;33m@\u001b[0m\u001b[0mproperty\u001b[0m\u001b[1;33m\u001b[0m\u001b[0m\n",
      "\u001b[1;32m/home/matias/phy/phy/io/base.py\u001b[0m in \u001b[0;36mopen\u001b[1;34m(self, path, model)\u001b[0m\n\u001b[0;32m    429\u001b[0m             \u001b[0mself\u001b[0m\u001b[1;33m.\u001b[0m\u001b[0mclose\u001b[0m\u001b[1;33m(\u001b[0m\u001b[1;33m)\u001b[0m\u001b[1;33m\u001b[0m\u001b[0m\n\u001b[0;32m    430\u001b[0m         \u001b[1;32mif\u001b[0m \u001b[0mmodel\u001b[0m \u001b[1;32mis\u001b[0m \u001b[1;32mNone\u001b[0m\u001b[1;33m:\u001b[0m\u001b[1;33m\u001b[0m\u001b[0m\n\u001b[1;32m--> 431\u001b[1;33m             \u001b[0mmodel\u001b[0m \u001b[1;33m=\u001b[0m \u001b[0mself\u001b[0m\u001b[1;33m.\u001b[0m\u001b[0m_create_model\u001b[0m\u001b[1;33m(\u001b[0m\u001b[0mpath\u001b[0m\u001b[1;33m)\u001b[0m\u001b[1;33m\u001b[0m\u001b[0m\n\u001b[0m\u001b[0;32m    432\u001b[0m         \u001b[0mself\u001b[0m\u001b[1;33m.\u001b[0m\u001b[0mmodel\u001b[0m \u001b[1;33m=\u001b[0m \u001b[0mmodel\u001b[0m\u001b[1;33m\u001b[0m\u001b[0m\n\u001b[0;32m    433\u001b[0m         self.experiment_path = (op.realpath(path)\n",
      "\u001b[1;32m/home/matias/phy/phy/session/session.py\u001b[0m in \u001b[0;36m_create_model\u001b[1;34m(self, path)\u001b[0m\n\u001b[0;32m    101\u001b[0m                           \u001b[0mclustering\u001b[0m\u001b[1;33m=\u001b[0m\u001b[0mself\u001b[0m\u001b[1;33m.\u001b[0m\u001b[0m_clustering\u001b[0m\u001b[1;33m,\u001b[0m\u001b[1;33m\u001b[0m\u001b[0m\n\u001b[0;32m    102\u001b[0m                           \u001b[0mchannel_group\u001b[0m\u001b[1;33m=\u001b[0m\u001b[0mself\u001b[0m\u001b[1;33m.\u001b[0m\u001b[0m_channel_group\u001b[0m\u001b[1;33m,\u001b[0m\u001b[1;33m\u001b[0m\u001b[0m\n\u001b[1;32m--> 103\u001b[1;33m                           \u001b[0mwaveform_filter\u001b[0m\u001b[1;33m=\u001b[0m\u001b[0mself\u001b[0m\u001b[1;33m.\u001b[0m\u001b[0m_waveform_filter\u001b[0m\u001b[1;33m,\u001b[0m\u001b[1;33m\u001b[0m\u001b[0m\n\u001b[0m\u001b[0;32m    104\u001b[0m                           )\n\u001b[0;32m    105\u001b[0m         \u001b[0mself\u001b[0m\u001b[1;33m.\u001b[0m\u001b[0m_create_logger\u001b[0m\u001b[1;33m(\u001b[0m\u001b[0mpath\u001b[0m\u001b[1;33m)\u001b[0m\u001b[1;33m\u001b[0m\u001b[0m\n",
      "\u001b[1;32m/home/matias/phy/phy/io/kwik/model.py\u001b[0m in \u001b[0;36m__init__\u001b[1;34m(self, kwik_path, channel_group, clustering, waveform_filter)\u001b[0m\n\u001b[0;32m    331\u001b[0m         self.open(kwik_path,\n\u001b[0;32m    332\u001b[0m                   \u001b[0mchannel_group\u001b[0m\u001b[1;33m=\u001b[0m\u001b[0mchannel_group\u001b[0m\u001b[1;33m,\u001b[0m\u001b[1;33m\u001b[0m\u001b[0m\n\u001b[1;32m--> 333\u001b[1;33m                   clustering=clustering)\n\u001b[0m\u001b[0;32m    334\u001b[0m \u001b[1;33m\u001b[0m\u001b[0m\n\u001b[0;32m    335\u001b[0m     \u001b[1;33m@\u001b[0m\u001b[0mproperty\u001b[0m\u001b[1;33m\u001b[0m\u001b[0m\n",
      "\u001b[1;32m/home/matias/phy/phy/io/kwik/model.py\u001b[0m in \u001b[0;36mopen\u001b[1;34m(self, kwik_path, channel_group, clustering)\u001b[0m\n\u001b[0;32m    712\u001b[0m \u001b[1;33m\u001b[0m\u001b[0m\n\u001b[0;32m    713\u001b[0m         \u001b[1;31m# This generates the recording offset.\u001b[0m\u001b[1;33m\u001b[0m\u001b[1;33m\u001b[0m\u001b[0m\n\u001b[1;32m--> 714\u001b[1;33m         \u001b[0mself\u001b[0m\u001b[1;33m.\u001b[0m\u001b[0m_load_traces\u001b[0m\u001b[1;33m(\u001b[0m\u001b[1;33m)\u001b[0m\u001b[1;33m\u001b[0m\u001b[0m\n\u001b[0m\u001b[0;32m    715\u001b[0m \u001b[1;33m\u001b[0m\u001b[0m\n\u001b[0;32m    716\u001b[0m         \u001b[0mself\u001b[0m\u001b[1;33m.\u001b[0m\u001b[0m_load_channel_groups\u001b[0m\u001b[1;33m(\u001b[0m\u001b[0mchannel_group\u001b[0m\u001b[1;33m)\u001b[0m\u001b[1;33m\u001b[0m\u001b[0m\n",
      "\u001b[1;32m/home/matias/phy/phy/io/kwik/model.py\u001b[0m in \u001b[0;36m_load_traces\u001b[1;34m(self)\u001b[0m\n\u001b[0;32m    602\u001b[0m         traces, opened_files = _read_traces(self._kwik,\n\u001b[0;32m    603\u001b[0m                                             \u001b[0mdtype\u001b[0m\u001b[1;33m=\u001b[0m\u001b[0mdtype\u001b[0m\u001b[1;33m,\u001b[0m\u001b[1;33m\u001b[0m\u001b[0m\n\u001b[1;32m--> 604\u001b[1;33m                                             n_channels=n_channels)\n\u001b[0m\u001b[0;32m    605\u001b[0m \u001b[1;33m\u001b[0m\u001b[0m\n\u001b[0;32m    606\u001b[0m         \u001b[1;32mif\u001b[0m \u001b[1;32mnot\u001b[0m \u001b[0mtraces\u001b[0m\u001b[1;33m:\u001b[0m\u001b[1;33m\u001b[0m\u001b[0m\n",
      "\u001b[1;32m/home/matias/phy/phy/io/kwik/model.py\u001b[0m in \u001b[0;36m_read_traces\u001b[1;34m(kwik, dtype, n_channels)\u001b[0m\n\u001b[0;32m    212\u001b[0m                       .format(dat_path))\n\u001b[0;32m    213\u001b[0m                 dat = _dat_to_traces(dat_path, dtype=dtype,\n\u001b[1;32m--> 214\u001b[1;33m                                      n_channels=n_channels)\n\u001b[0m\u001b[0;32m    215\u001b[0m                 \u001b[0mtraces\u001b[0m\u001b[1;33m.\u001b[0m\u001b[0mappend\u001b[0m\u001b[1;33m(\u001b[0m\u001b[0mdat\u001b[0m\u001b[1;33m)\u001b[0m\u001b[1;33m\u001b[0m\u001b[0m\n\u001b[0;32m    216\u001b[0m                 \u001b[0mopened_files\u001b[0m\u001b[1;33m.\u001b[0m\u001b[0mappend\u001b[0m\u001b[1;33m(\u001b[0m\u001b[0mdat\u001b[0m\u001b[1;33m)\u001b[0m\u001b[1;33m\u001b[0m\u001b[0m\n",
      "\u001b[1;32m/home/matias/phy/phy/io/traces.py\u001b[0m in \u001b[0;36m_dat_to_traces\u001b[1;34m(dat_path, n_channels, dtype)\u001b[0m\n\u001b[0;32m     74\u001b[0m     return read_dat(dat_path,\n\u001b[0;32m     75\u001b[0m                     \u001b[0mdtype\u001b[0m\u001b[1;33m=\u001b[0m\u001b[0mdtype\u001b[0m\u001b[1;33m,\u001b[0m\u001b[1;33m\u001b[0m\u001b[0m\n\u001b[1;32m---> 76\u001b[1;33m                     shape=(n_samples, n_channels))\n\u001b[0m\u001b[0;32m     77\u001b[0m \u001b[1;33m\u001b[0m\u001b[0m\n\u001b[0;32m     78\u001b[0m \u001b[1;33m\u001b[0m\u001b[0m\n",
      "\u001b[1;32m/home/matias/phy/phy/io/traces.py\u001b[0m in \u001b[0;36mread_dat\u001b[1;34m(filename, dtype, shape, offset, n_channels)\u001b[0m\n\u001b[0;32m     62\u001b[0m         \u001b[0mshape\u001b[0m \u001b[1;33m=\u001b[0m \u001b[1;33m(\u001b[0m\u001b[0mn_samples\u001b[0m\u001b[1;33m,\u001b[0m \u001b[0mn_channels\u001b[0m\u001b[1;33m)\u001b[0m\u001b[1;33m\u001b[0m\u001b[0m\n\u001b[0;32m     63\u001b[0m     return np.memmap(filename, dtype=dtype, shape=shape,\n\u001b[1;32m---> 64\u001b[1;33m                      mode='r', offset=offset)\n\u001b[0m\u001b[0;32m     65\u001b[0m \u001b[1;33m\u001b[0m\u001b[0m\n\u001b[0;32m     66\u001b[0m \u001b[1;33m\u001b[0m\u001b[0m\n",
      "\u001b[1;32m/home/matias/miniconda/lib/python3.4/site-packages/numpy/core/memmap.py\u001b[0m in \u001b[0;36m__new__\u001b[1;34m(subtype, filename, dtype, mode, offset, shape, order)\u001b[0m\n\u001b[0;32m    255\u001b[0m         \u001b[0mbytes\u001b[0m \u001b[1;33m-=\u001b[0m \u001b[0mstart\u001b[0m\u001b[1;33m\u001b[0m\u001b[0m\n\u001b[0;32m    256\u001b[0m         \u001b[0moffset\u001b[0m \u001b[1;33m-=\u001b[0m \u001b[0mstart\u001b[0m\u001b[1;33m\u001b[0m\u001b[0m\n\u001b[1;32m--> 257\u001b[1;33m         \u001b[0mmm\u001b[0m \u001b[1;33m=\u001b[0m \u001b[0mmmap\u001b[0m\u001b[1;33m.\u001b[0m\u001b[0mmmap\u001b[0m\u001b[1;33m(\u001b[0m\u001b[0mfid\u001b[0m\u001b[1;33m.\u001b[0m\u001b[0mfileno\u001b[0m\u001b[1;33m(\u001b[0m\u001b[1;33m)\u001b[0m\u001b[1;33m,\u001b[0m \u001b[0mbytes\u001b[0m\u001b[1;33m,\u001b[0m \u001b[0maccess\u001b[0m\u001b[1;33m=\u001b[0m\u001b[0macc\u001b[0m\u001b[1;33m,\u001b[0m \u001b[0moffset\u001b[0m\u001b[1;33m=\u001b[0m\u001b[0mstart\u001b[0m\u001b[1;33m)\u001b[0m\u001b[1;33m\u001b[0m\u001b[0m\n\u001b[0m\u001b[0;32m    258\u001b[0m \u001b[1;33m\u001b[0m\u001b[0m\n\u001b[0;32m    259\u001b[0m         self = ndarray.__new__(subtype, shape, dtype=descr, buffer=mm,\n",
      "\u001b[1;31mValueError\u001b[0m: cannot mmap an empty file"
     ]
    }
   ],
   "source": [
    "%%capture\n",
    "# MAIN PROGRAM\n",
    "\n",
    "# obtaining everything from the matfile\n",
    "wave_raw, spike_indices, metadata = process_matdata(matfile, channelnumber, waveformstart, waveformend)\n",
    "\n",
    "# saving spiketimes to a file\n",
    "write_spikestimes('spike_times.npy', spike_indices/np.float(30000))\n",
    "\n",
    "# changing data type of raw waves\n",
    "wave_raw = wave_raw.astype(np.float32)\n",
    "\n",
    "# new session in klusta\n",
    "newsession = initialize_session(paramsfile, overwrite, kwik_path)\n",
    "\n",
    "# running spikedetect with fake data\n",
    "sd, out, params = run_faux_detection(newsession['session'])\n",
    "\n",
    "# don't fucking now\n",
    "replace_spikes(newsession['session'], sd, out, wave_raw, group, n_channels, n_features)\n",
    "\n",
    "# just preparing stuff to run clustering\n",
    "KK2_prepare_textfiles(kwik_path, n_features, channelnumber)\n",
    "\n",
    "# running the clustering\n",
    "%run C:\\Miniconda3\\envs\\phy\\Scripts\\kk2_legacy-script.py data $channelnumber max_possible_clusters=6 num_starting_clusters=3 max_iterations=10000"
   ]
  },
  {
   "cell_type": "code",
   "execution_count": 14,
   "metadata": {
    "collapsed": false
   },
   "outputs": [
    {
     "ename": "NameError",
     "evalue": "name 'newsession' is not defined",
     "output_type": "error",
     "traceback": [
      "\u001b[1;31m---------------------------------------------------------------------------\u001b[0m",
      "\u001b[1;31mNameError\u001b[0m                                 Traceback (most recent call last)",
      "\u001b[1;32m<ipython-input-14-4d3dba26c7e9>\u001b[0m in \u001b[0;36m<module>\u001b[1;34m()\u001b[0m\n\u001b[0;32m      1\u001b[0m \u001b[1;31m# adding clusters\u001b[0m\u001b[1;33m\u001b[0m\u001b[1;33m\u001b[0m\u001b[0m\n\u001b[1;32m----> 2\u001b[1;33m \u001b[0madd_clusters\u001b[0m\u001b[1;33m(\u001b[0m\u001b[0mclustfile\u001b[0m\u001b[1;33m,\u001b[0m \u001b[0mnewsession\u001b[0m\u001b[1;33m[\u001b[0m\u001b[1;34m'session'\u001b[0m\u001b[1;33m]\u001b[0m\u001b[1;33m,\u001b[0m \u001b[0mgroup\u001b[0m\u001b[1;33m)\u001b[0m\u001b[1;33m\u001b[0m\u001b[0m\n\u001b[0m",
      "\u001b[1;31mNameError\u001b[0m: name 'newsession' is not defined"
     ]
    }
   ],
   "source": [
    "# adding clusters\n",
    "add_clusters(clustfile, newsession['session'], group)"
   ]
  },
  {
   "cell_type": "code",
   "execution_count": 13,
   "metadata": {
    "collapsed": true
   },
   "outputs": [],
   "source": [
    "# trying stuff\n",
    "wave_raw, spike_indices, metadata = process_matdata(matfile, channelnumber, waveformstart, waveformend)"
   ]
  },
  {
   "cell_type": "code",
   "execution_count": 3,
   "metadata": {
    "collapsed": false
   },
   "outputs": [],
   "source": [
    "clusters = np.loadtxt('data.clu.5', dtype='int64', unpack=False)\n",
    "clusters = clusters[1::]\n",
    "pcs = np.loadtxt('data.fet.'+channelnumber, dtype='float32', unpack=False, skiprows=1)"
   ]
  },
  {
   "cell_type": "code",
   "execution_count": 4,
   "metadata": {
    "collapsed": false
   },
   "outputs": [
    {
     "data": {
      "text/plain": [
       "array([1, 3, 4, 5, 6], dtype=int64)"
      ]
     },
     "execution_count": 4,
     "metadata": {},
     "output_type": "execute_result"
    }
   ],
   "source": [
    "# checking stuff\n",
    "np.unique(clusters)"
   ]
  },
  {
   "cell_type": "code",
   "execution_count": 8,
   "metadata": {
    "collapsed": false
   },
   "outputs": [],
   "source": [
    "# extracting features and waves\n",
    "\n",
    "pcs1 = pcs[np.where(clusters==1)[0],:]\n",
    "pcs3 = pcs[np.where(clusters==3)[0],:]\n",
    "pcs4 = pcs[np.where(clusters==4)[0],:]\n",
    "pcs5 = pcs[np.where(clusters==5)[0],:]\n",
    "pcs6 = pcs[np.where(clusters==6)[0],:]\n",
    "\n",
    "waves1 = wave_raw[np.where(clusters==1)[0],:]\n",
    "waves3 = wave_raw[np.where(clusters==3)[0],:]\n",
    "waves4 = wave_raw[np.where(clusters==4)[0],:]\n",
    "waves5 = wave_raw[np.where(clusters==5)[0],:]\n",
    "waves6 = wave_raw[np.where(clusters==6)[0],:]"
   ]
  },
  {
   "cell_type": "code",
   "execution_count": 9,
   "metadata": {
    "collapsed": false
   },
   "outputs": [],
   "source": [
    "# plot the clusters\n",
    "\n",
    "fig = plt.figure()\n",
    "ax = Axes3D(fig)\n",
    "ax.scatter(pcs1[:,0], pcs1[:,1], pcs1[:,2], color = 'b')\n",
    "ax.scatter(pcs3[:,0], pcs3[:,1], pcs3[:,2], color = 'r')\n",
    "ax.scatter(pcs4[:,0], pcs4[:,1], pcs4[:,2], color = 'g')\n",
    "ax.scatter(pcs5[:,0], pcs5[:,1], pcs5[:,2], color = 'k')\n",
    "ax.scatter(pcs6[:,0], pcs6[:,1], pcs6[:,2], color = 'y')\n",
    "plt.show()"
   ]
  },
  {
   "cell_type": "code",
   "execution_count": 12,
   "metadata": {
    "collapsed": false
   },
   "outputs": [],
   "source": [
    "# Plot the waves\n",
    "\n",
    "for i in np.arange(waves1.shape[0]) :\n",
    "    plt.plot(waves1[i,:], 'b')\n",
    "#for i in np.arange(waves3.shape[0]) :\n",
    "    #plt.plot(waves3[i,:], 'r')\n",
    "#for i in np.arange(500) :\n",
    "    #plt.plot(waves4[i,:], 'g')\n",
    "#for i in np.arange(500) :\n",
    "    #plt.plot(waves6[i,:], 'y')\n",
    "plt.show()"
   ]
  },
  {
   "cell_type": "code",
   "execution_count": null,
   "metadata": {
    "collapsed": false
   },
   "outputs": [],
   "source": []
  },
  {
   "cell_type": "code",
   "execution_count": null,
   "metadata": {
    "collapsed": true
   },
   "outputs": [],
   "source": []
  }
 ],
 "metadata": {
  "kernelspec": {
   "display_name": "Python 3",
   "language": "python",
   "name": "python3"
  },
  "language_info": {
   "codemirror_mode": {
    "name": "ipython",
    "version": 3
   },
   "file_extension": ".py",
   "mimetype": "text/x-python",
   "name": "python",
   "nbconvert_exporter": "python",
   "pygments_lexer": "ipython3",
   "version": "3.4.3"
  }
 },
 "nbformat": 4,
 "nbformat_minor": 0
}
